{
 "cells": [
  {
   "cell_type": "code",
   "execution_count": 43,
   "metadata": {},
   "outputs": [
    {
     "name": "stderr",
     "output_type": "stream",
     "text": [
      "Updating HTML index of packages in '.Library'\n",
      "Making 'packages.html' ... done\n"
     ]
    }
   ],
   "source": [
    "##Instalar solo una vez\n",
    "#install.packages(\"modeest\")"
   ]
  },
  {
   "cell_type": "code",
   "execution_count": 44,
   "metadata": {},
   "outputs": [],
   "source": [
    "library(readr)\n",
    "library(dplyr)\n",
    "library(modeest)"
   ]
  },
  {
   "cell_type": "code",
   "execution_count": 47,
   "metadata": {},
   "outputs": [
    {
     "name": "stderr",
     "output_type": "stream",
     "text": [
      "Parsed with column specification:\n",
      "cols(\n",
      "  Comunidad = col_character(),\n",
      "  Ciudad = col_character(),\n",
      "  `Cantidad de perfiles facebook` = col_double(),\n",
      "  `Tasa desempleo ciudad` = col_double(),\n",
      "  `% Población sedentaria` = col_double(),\n",
      "  `Salario medio por hora` = col_double(),\n",
      "  `Parques m2/hab` = col_double(),\n",
      "  `Usuarios jóvenes (18-39)` = col_double(),\n",
      "  `Usuarios adultos (40-64)` = col_double(),\n",
      "  `Usuarios mayores (+ 65)` = col_double(),\n",
      "  Hombres = col_double(),\n",
      "  Mujeres = col_double(),\n",
      "  Población = col_double()\n",
      ")\n"
     ]
    },
    {
     "name": "stdout",
     "output_type": "stream",
     "text": [
      "tibble [50 × 13] (S3: spec_tbl_df/tbl_df/tbl/data.frame)\n",
      " $ Comunidad                    : chr [1:50] \"Castilla-La Mancha\" \"Comunidad de Madrid\" \"Comunidad de Madrid\" \"Comunidad Valenciana\" ...\n",
      " $ Ciudad                       : chr [1:50] \"Albacete\" \"Alcalá de Henares\" \"Alcorcón\" \"Alicante\" ...\n",
      " $ Cantidad de perfiles facebook: num [1:50] 63.6 49 55.5 87.5 101.6 ...\n",
      " $ Tasa desempleo ciudad        : num [1:50] 20.7 10.2 10.2 15 19.7 ...\n",
      " $ % Población sedentaria       : num [1:50] 43.2 34.5 34.5 37.3 39.2 ...\n",
      " $ Salario medio por hora       : num [1:50] 14.1 17.1 17.1 14.4 14.5 ...\n",
      " $ Parques m2/hab               : num [1:50] 7.16 11.2 7.8 6.12 6.5 6.75 6.55 5.53 5.73 2.8 ...\n",
      " $ Usuarios jóvenes (18-39)     : num [1:50] 29.5 21.2 21.8 39.2 50.3 ...\n",
      " $ Usuarios adultos (40-64)     : num [1:50] 28.9 23.7 27.7 42.2 45.7 ...\n",
      " $ Usuarios mayores (+ 65)      : num [1:50] 3.81 3.46 5.9 7.54 6.1 5.31 5.05 8.64 5.21 3.3 ...\n",
      " $ Hombres                      : num [1:50] 30.1 22.7 24.8 39.2 47.8 ...\n",
      " $ Mujeres                      : num [1:50] 32.4 25.3 30.1 48.2 55.9 ...\n",
      " $ Población                    : num [1:50] 173050 193751 169502 331577 196851 ...\n",
      " - attr(*, \"spec\")=\n",
      "  .. cols(\n",
      "  ..   Comunidad = col_character(),\n",
      "  ..   Ciudad = col_character(),\n",
      "  ..   `Cantidad de perfiles facebook` = col_double(),\n",
      "  ..   `Tasa desempleo ciudad` = col_double(),\n",
      "  ..   `% Población sedentaria` = col_double(),\n",
      "  ..   `Salario medio por hora` = col_double(),\n",
      "  ..   `Parques m2/hab` = col_double(),\n",
      "  ..   `Usuarios jóvenes (18-39)` = col_double(),\n",
      "  ..   `Usuarios adultos (40-64)` = col_double(),\n",
      "  ..   `Usuarios mayores (+ 65)` = col_double(),\n",
      "  ..   Hombres = col_double(),\n",
      "  ..   Mujeres = col_double(),\n",
      "  ..   Población = col_double()\n",
      "  .. )\n"
     ]
    }
   ],
   "source": [
    "dataset <- read_delim(\"./dataset.csv\",\";\", escape_double = FALSE, trim_ws = TRUE)\n",
    "str(dataset)\n",
    "#head(dataset)"
   ]
  },
  {
   "cell_type": "code",
   "execution_count": 48,
   "metadata": {},
   "outputs": [
    {
     "data": {
      "text/html": [
       "<style>\n",
       ".list-inline {list-style: none; margin:0; padding: 0}\n",
       ".list-inline>li {display: inline-block}\n",
       ".list-inline>li:not(:last-child)::after {content: \"\\00b7\"; padding: 0 .5ex}\n",
       "</style>\n",
       "<ol class=list-inline><li>'Comunidad'</li><li>'Ciudad'</li><li>'Cantidad de perfiles facebook'</li><li>'Tasa desempleo ciudad'</li><li>'% Población sedentaria'</li><li>'Salario medio por hora'</li><li>'Parques m2/hab'</li><li>'Usuarios jóvenes (18-39)'</li><li>'Usuarios adultos (40-64)'</li><li>'Usuarios mayores (+ 65)'</li><li>'Hombres'</li><li>'Mujeres'</li><li>'Población'</li></ol>\n"
      ],
      "text/latex": [
       "\\begin{enumerate*}\n",
       "\\item 'Comunidad'\n",
       "\\item 'Ciudad'\n",
       "\\item 'Cantidad de perfiles facebook'\n",
       "\\item 'Tasa desempleo ciudad'\n",
       "\\item '\\% Población sedentaria'\n",
       "\\item 'Salario medio por hora'\n",
       "\\item 'Parques m2/hab'\n",
       "\\item 'Usuarios jóvenes (18-39)'\n",
       "\\item 'Usuarios adultos (40-64)'\n",
       "\\item 'Usuarios mayores (+ 65)'\n",
       "\\item 'Hombres'\n",
       "\\item 'Mujeres'\n",
       "\\item 'Población'\n",
       "\\end{enumerate*}\n"
      ],
      "text/markdown": [
       "1. 'Comunidad'\n",
       "2. 'Ciudad'\n",
       "3. 'Cantidad de perfiles facebook'\n",
       "4. 'Tasa desempleo ciudad'\n",
       "5. '% Población sedentaria'\n",
       "6. 'Salario medio por hora'\n",
       "7. 'Parques m2/hab'\n",
       "8. 'Usuarios jóvenes (18-39)'\n",
       "9. 'Usuarios adultos (40-64)'\n",
       "10. 'Usuarios mayores (+ 65)'\n",
       "11. 'Hombres'\n",
       "12. 'Mujeres'\n",
       "13. 'Población'\n",
       "\n",
       "\n"
      ],
      "text/plain": [
       " [1] \"Comunidad\"                     \"Ciudad\"                       \n",
       " [3] \"Cantidad de perfiles facebook\" \"Tasa desempleo ciudad\"        \n",
       " [5] \"% Población sedentaria\"        \"Salario medio por hora\"       \n",
       " [7] \"Parques m2/hab\"                \"Usuarios jóvenes (18-39)\"     \n",
       " [9] \"Usuarios adultos (40-64)\"      \"Usuarios mayores (+ 65)\"      \n",
       "[11] \"Hombres\"                       \"Mujeres\"                      \n",
       "[13] \"Población\"                    "
      ]
     },
     "metadata": {},
     "output_type": "display_data"
    }
   ],
   "source": [
    "colnames(dataset)"
   ]
  },
  {
   "cell_type": "code",
   "execution_count": 49,
   "metadata": {},
   "outputs": [],
   "source": [
    "#Reducir el número de columnas a las que se van a utilizar\n",
    "dataset<- dataset %>% \n",
    "          select('Ciudad','Cantidad de perfiles facebook','Tasa desempleo ciudad','% Población sedentaria','Hombres','Mujeres')\n"
   ]
  },
  {
   "cell_type": "code",
   "execution_count": 51,
   "metadata": {},
   "outputs": [
    {
     "name": "stdout",
     "output_type": "stream",
     "text": [
      "[1] 14.0182\n",
      "[1] 20.63262\n",
      "[1] 12.955\n",
      "[1] 10.5\n",
      "[1] 6.91\n",
      "[1] 24.89\n",
      "[1] 7.5075\n",
      "     0%     25%     50%     75%    100% \n",
      " 6.9100 10.5000 12.9550 18.0075 24.8900 \n"
     ]
    }
   ],
   "source": [
    "desMean <- mean(dataset$'Tasa desempleo ciudad')\n",
    "print(desMean)\n",
    "desVar <- var(dataset$'Tasa desempleo ciudad')\n",
    "print(desVar)\n",
    "desMed <- median(dataset$'Tasa desempleo ciudad')\n",
    "print(desMed)\n",
    "desMod <- mfv(dataset$'Tasa desempleo ciudad')\n",
    "print(desMod)\n",
    "desMin <- min(dataset$'Tasa desempleo ciudad')\n",
    "print(desMin)\n",
    "desMax <- max(dataset$'Tasa desempleo ciudad')\n",
    "print(desMax)\n",
    "desRango <- IQR(dataset$'Tasa desempleo ciudad')\n",
    "print(desRango)\n",
    "\n",
    "desQuant <- quantile(dataset$'Tasa desempleo ciudad', probs = seq(0, 1, 0.25), na.rm = FALSE,\n",
    "         names = TRUE, type = 7)\n",
    "print(desQuant)\n",
    "\n",
    "#tabla<-cbind(desMean,desVar,desMed,desMod)\n",
    "#print(tabla)"
   ]
  },
  {
   "cell_type": "code",
   "execution_count": 52,
   "metadata": {},
   "outputs": [
    {
     "name": "stdout",
     "output_type": "stream",
     "text": [
      "[1] 35.6366\n",
      "[1] 31.28248\n",
      "[1] 37.315\n",
      "[1] 37.35\n",
      "[1] 22.03\n",
      "[1] 44.99\n",
      "[1] 5.32\n",
      "     0%     25%     50%     75%    100% \n",
      "22.0300 34.0525 37.3150 39.3725 44.9900 \n"
     ]
    }
   ],
   "source": [
    "sedMean <- mean(dataset$'% Población sedentaria')\n",
    "print(sedMean)\n",
    "sedVar <- var(dataset$'% Población sedentaria')\n",
    "print(sedVar)\n",
    "sedMed <- median(dataset$'% Población sedentaria')\n",
    "print(sedMed)\n",
    "sedMod <- mfv(dataset$'% Población sedentaria')\n",
    "print(sedMod)\n",
    "\n",
    "sedMin <- min(dataset$'% Población sedentaria')\n",
    "print(sedMin)\n",
    "sedMax <- max(dataset$'% Población sedentaria')\n",
    "print(sedMax)\n",
    "sedRango <- IQR(dataset$'% Población sedentaria')\n",
    "print(sedRango)\n",
    "\n",
    "sedQuant <- quantile(dataset$'% Población sedentaria', probs = seq(0, 1, 0.25), na.rm = FALSE,\n",
    "         names = TRUE, type = 7)\n",
    "print(sedQuant)\n"
   ]
  },
  {
   "cell_type": "code",
   "execution_count": null,
   "metadata": {},
   "outputs": [],
   "source": []
  }
 ],
 "metadata": {
  "kernelspec": {
   "display_name": "R",
   "language": "R",
   "name": "conda-env-r-r"
  },
  "language_info": {
   "codemirror_mode": "r",
   "file_extension": ".r",
   "mimetype": "text/x-r-source",
   "name": "R",
   "pygments_lexer": "r",
   "version": "3.5.1"
  }
 },
 "nbformat": 4,
 "nbformat_minor": 4
}
