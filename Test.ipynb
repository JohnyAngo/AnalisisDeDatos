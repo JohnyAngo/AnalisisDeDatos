{
 "cells": [
  {
   "cell_type": "code",
   "execution_count": 1,
   "metadata": {},
   "outputs": [
    {
     "name": "stderr",
     "output_type": "stream",
     "text": [
      "also installing the dependencies ‘timeSeries’, ‘gss’, ‘rmutil’, ‘clue’, ‘fBasics’, ‘stable’, ‘stabledist’, ‘statip’\n",
      "\n",
      "Updating HTML index of packages in '.Library'\n",
      "Making 'packages.html' ... done\n",
      "also installing the dependencies ‘tmvnsim’, ‘mnormt’\n",
      "\n",
      "Updating HTML index of packages in '.Library'\n",
      "Making 'packages.html' ... done\n",
      "Updating HTML index of packages in '.Library'\n",
      "Making 'packages.html' ... done\n",
      "Updating HTML index of packages in '.Library'\n",
      "Making 'packages.html' ... done\n",
      "Updating HTML index of packages in '.Library'\n",
      "Making 'packages.html' ... done\n",
      "Updating HTML index of packages in '.Library'\n",
      "Making 'packages.html' ... done\n",
      "Updating HTML index of packages in '.Library'\n",
      "Making 'packages.html' ... done\n",
      "also installing the dependencies ‘lmom’, ‘gld’, ‘mvtnorm’\n",
      "\n",
      "Updating HTML index of packages in '.Library'\n",
      "Making 'packages.html' ... done\n"
     ]
    }
   ],
   "source": [
    "##Instalar solo una vez\n",
    "install.packages(\"modeest\")\n",
    "install.packages(\"psych\")\n",
    "install.packages(\"moments\")\n",
    "install.packages(\"corrplot\")\n",
    "install.packages(\"e1071\")\n",
    "install.packages(\"fdth\") \n",
    "install.packages(\"nortest\")\n",
    "install.packages(\"PairedData\")\n"
   ]
  },
  {
   "cell_type": "code",
   "execution_count": 5,
   "metadata": {},
   "outputs": [
    {
     "name": "stderr",
     "output_type": "stream",
     "text": [
      "\n",
      "Attaching package: ‘dplyr’\n",
      "\n",
      "The following objects are masked from ‘package:stats’:\n",
      "\n",
      "    filter, lag\n",
      "\n",
      "The following objects are masked from ‘package:base’:\n",
      "\n",
      "    intersect, setdiff, setequal, union\n",
      "\n",
      "\n",
      "Attaching package: ‘e1071’\n",
      "\n",
      "The following object is masked from ‘package:modeest’:\n",
      "\n",
      "    skewness\n",
      "\n",
      "corrplot 0.84 loaded\n",
      "\n",
      "Attaching package: ‘psych’\n",
      "\n",
      "The following objects are masked from ‘package:ggplot2’:\n",
      "\n",
      "    %+%, alpha\n",
      "\n",
      "\n",
      "Attaching package: ‘fdth’\n",
      "\n",
      "The following object is masked from ‘package:modeest’:\n",
      "\n",
      "    mfv\n",
      "\n",
      "The following objects are masked from ‘package:stats’:\n",
      "\n",
      "    sd, var\n",
      "\n",
      "Loading required package: MASS\n",
      "\n",
      "Attaching package: ‘MASS’\n",
      "\n",
      "The following object is masked from ‘package:dplyr’:\n",
      "\n",
      "    select\n",
      "\n",
      "Loading required package: gld\n",
      "Loading required package: mvtnorm\n",
      "Loading required package: lattice\n",
      "\n",
      "Attaching package: ‘PairedData’\n",
      "\n",
      "The following object is masked from ‘package:base’:\n",
      "\n",
      "    summary\n",
      "\n"
     ]
    }
   ],
   "source": [
    "library(readr)\n",
    "library(dplyr)\n",
    "library(modeest)\n",
    "library(e1071)\n",
    "library(ggplot2)\n",
    "library(corrplot)\n",
    "library(psych)\n",
    "library(fdth) # carga la extensión fdth (para el calculo de distribución de frecuencias.\n",
    "library(nortest)\n",
    "library(PairedData)\n",
    "#library(moments)"
   ]
  },
  {
   "cell_type": "code",
   "execution_count": 11,
   "metadata": {},
   "outputs": [
    {
     "name": "stderr",
     "output_type": "stream",
     "text": [
      "Parsed with column specification:\n",
      "cols(\n",
      "  Comunidad = col_character(),\n",
      "  Ciudad = col_character(),\n",
      "  `Cantidad de perfiles facebook` = col_double(),\n",
      "  `Tasa desempleo ciudad` = col_double(),\n",
      "  `% Población sedentaria` = col_double(),\n",
      "  `Salario medio por hora` = col_double(),\n",
      "  `Parques m2/hab` = col_double(),\n",
      "  `Usuarios jóvenes (18-39)` = col_double(),\n",
      "  `Usuarios adultos (40-64)` = col_double(),\n",
      "  `Usuarios mayores (+ 65)` = col_double(),\n",
      "  Hombres = col_double(),\n",
      "  Mujeres = col_double(),\n",
      "  Población = col_double()\n",
      ")\n"
     ]
    },
    {
     "data": {
      "text/html": [
       "<style>\n",
       ".list-inline {list-style: none; margin:0; padding: 0}\n",
       ".list-inline>li {display: inline-block}\n",
       ".list-inline>li:not(:last-child)::after {content: \"\\00b7\"; padding: 0 .5ex}\n",
       "</style>\n",
       "<ol class=list-inline><li>'Comunidad'</li><li>'Ciudad'</li><li>'Cantidad de perfiles facebook'</li><li>'Tasa desempleo ciudad'</li><li>'% Población sedentaria'</li><li>'Salario medio por hora'</li><li>'Parques m2/hab'</li><li>'Usuarios jóvenes (18-39)'</li><li>'Usuarios adultos (40-64)'</li><li>'Usuarios mayores (+ 65)'</li><li>'Hombres'</li><li>'Mujeres'</li><li>'Población'</li></ol>\n"
      ],
      "text/latex": [
       "\\begin{enumerate*}\n",
       "\\item 'Comunidad'\n",
       "\\item 'Ciudad'\n",
       "\\item 'Cantidad de perfiles facebook'\n",
       "\\item 'Tasa desempleo ciudad'\n",
       "\\item '\\% Población sedentaria'\n",
       "\\item 'Salario medio por hora'\n",
       "\\item 'Parques m2/hab'\n",
       "\\item 'Usuarios jóvenes (18-39)'\n",
       "\\item 'Usuarios adultos (40-64)'\n",
       "\\item 'Usuarios mayores (+ 65)'\n",
       "\\item 'Hombres'\n",
       "\\item 'Mujeres'\n",
       "\\item 'Población'\n",
       "\\end{enumerate*}\n"
      ],
      "text/markdown": [
       "1. 'Comunidad'\n",
       "2. 'Ciudad'\n",
       "3. 'Cantidad de perfiles facebook'\n",
       "4. 'Tasa desempleo ciudad'\n",
       "5. '% Población sedentaria'\n",
       "6. 'Salario medio por hora'\n",
       "7. 'Parques m2/hab'\n",
       "8. 'Usuarios jóvenes (18-39)'\n",
       "9. 'Usuarios adultos (40-64)'\n",
       "10. 'Usuarios mayores (+ 65)'\n",
       "11. 'Hombres'\n",
       "12. 'Mujeres'\n",
       "13. 'Población'\n",
       "\n",
       "\n"
      ],
      "text/plain": [
       " [1] \"Comunidad\"                     \"Ciudad\"                       \n",
       " [3] \"Cantidad de perfiles facebook\" \"Tasa desempleo ciudad\"        \n",
       " [5] \"% Población sedentaria\"        \"Salario medio por hora\"       \n",
       " [7] \"Parques m2/hab\"                \"Usuarios jóvenes (18-39)\"     \n",
       " [9] \"Usuarios adultos (40-64)\"      \"Usuarios mayores (+ 65)\"      \n",
       "[11] \"Hombres\"                       \"Mujeres\"                      \n",
       "[13] \"Población\"                    "
      ]
     },
     "metadata": {},
     "output_type": "display_data"
    }
   ],
   "source": [
    "dataset <- read_delim(\"./dataset.csv\",\";\", escape_double = FALSE, trim_ws = TRUE)\n",
    "colnames(dataset)"
   ]
  },
  {
   "cell_type": "code",
   "execution_count": 20,
   "metadata": {},
   "outputs": [],
   "source": [
    "#dataset[,c('Comunidad', 'Ciudad')]"
   ]
  },
  {
   "cell_type": "code",
   "execution_count": 23,
   "metadata": {},
   "outputs": [
    {
     "data": {
      "text/html": [
       "<table>\n",
       "<caption>A spec_tbl_df: 50 × 13</caption>\n",
       "<thead>\n",
       "\t<tr><th scope=col>Comunidad</th><th scope=col>Ciudad</th><th scope=col>Cantidad de perfiles facebook</th><th scope=col>Tasa desempleo ciudad</th><th scope=col>% Población sedentaria</th><th scope=col>Salario medio por hora</th><th scope=col>Parques m2/hab</th><th scope=col>Usuarios jóvenes (18-39)</th><th scope=col>Usuarios adultos (40-64)</th><th scope=col>Usuarios mayores (+ 65)</th><th scope=col>Hombres</th><th scope=col>Mujeres</th><th scope=col>Población</th></tr>\n",
       "\t<tr><th scope=col>&lt;chr&gt;</th><th scope=col>&lt;chr&gt;</th><th scope=col>&lt;dbl&gt;</th><th scope=col>&lt;dbl&gt;</th><th scope=col>&lt;dbl&gt;</th><th scope=col>&lt;dbl&gt;</th><th scope=col>&lt;dbl&gt;</th><th scope=col>&lt;dbl&gt;</th><th scope=col>&lt;dbl&gt;</th><th scope=col>&lt;dbl&gt;</th><th scope=col>&lt;dbl&gt;</th><th scope=col>&lt;dbl&gt;</th><th scope=col>&lt;dbl&gt;</th></tr>\n",
       "</thead>\n",
       "<tbody>\n",
       "\t<tr><td>Castilla-La Mancha        </td><td>Albacete                  </td><td> 63.57</td><td>20.72</td><td>43.18</td><td>14.09</td><td> 7.16</td><td>29.47</td><td>28.89</td><td>3.81</td><td>30.05</td><td>32.36</td><td> 173050</td></tr>\n",
       "\t<tr><td>Comunidad de Madrid       </td><td>Alcalá de Henares         </td><td> 49.03</td><td>10.20</td><td>34.48</td><td>17.13</td><td>11.20</td><td>21.16</td><td>23.74</td><td>3.46</td><td>22.71</td><td>25.29</td><td> 193751</td></tr>\n",
       "\t<tr><td>Comunidad de Madrid       </td><td>Alcorcón                  </td><td> 55.46</td><td>10.15</td><td>34.48</td><td>17.13</td><td> 7.80</td><td>21.83</td><td>27.73</td><td>5.90</td><td>24.78</td><td>30.09</td><td> 169502</td></tr>\n",
       "\t<tr><td>Comunidad Valenciana      </td><td>Alicante                  </td><td> 87.46</td><td>15.01</td><td>37.31</td><td>14.38</td><td> 6.12</td><td>39.21</td><td>42.22</td><td>7.54</td><td>39.21</td><td>48.25</td><td> 331577</td></tr>\n",
       "\t<tr><td>Andalucía                 </td><td>Almería                   </td><td>101.60</td><td>19.71</td><td>39.20</td><td>14.48</td><td> 6.50</td><td>50.29</td><td>45.72</td><td>6.10</td><td>47.75</td><td>55.88</td><td> 196851</td></tr>\n",
       "\t<tr><td>Extremadura               </td><td>Badajoz                   </td><td> 73.08</td><td>24.65</td><td>29.47</td><td>13.21</td><td> 6.75</td><td>32.55</td><td>31.89</td><td>5.31</td><td>32.55</td><td>37.87</td><td> 150530</td></tr>\n",
       "\t<tr><td>Cataluña                  </td><td>Badalona                  </td><td> 51.44</td><td>10.50</td><td>37.35</td><td>16.52</td><td> 6.55</td><td>21.59</td><td>24.80</td><td>5.05</td><td>24.80</td><td>26.64</td><td> 217741</td></tr>\n",
       "\t<tr><td>Cataluña                  </td><td>Barcelona                 </td><td>117.26</td><td>10.58</td><td>37.35</td><td>16.52</td><td> 5.53</td><td>54.93</td><td>49.37</td><td>8.64</td><td>53.08</td><td>59.86</td><td>1620343</td></tr>\n",
       "\t<tr><td>País Vasco                </td><td>Bilbao                    </td><td> 89.64</td><td>10.72</td><td>30.47</td><td>18.87</td><td> 5.73</td><td>40.48</td><td>43.38</td><td>5.21</td><td>40.48</td><td>49.16</td><td> 345821</td></tr>\n",
       "\t<tr><td>Castilla y León           </td><td>Burgos                    </td><td> 47.75</td><td> 9.76</td><td>26.38</td><td>14.33</td><td> 2.80</td><td>21.60</td><td>22.17</td><td>3.30</td><td>22.17</td><td>25.01</td><td> 175921</td></tr>\n",
       "\t<tr><td>Región de Murcia          </td><td>Cartagena                 </td><td> 44.40</td><td>16.20</td><td>44.99</td><td>13.85</td><td> 5.97</td><td>20.10</td><td>20.57</td><td>3.51</td><td>20.57</td><td>23.37</td><td> 213943</td></tr>\n",
       "\t<tr><td>Comunidad Valenciana      </td><td>Castellón de la plana     </td><td> 87.78</td><td>13.81</td><td>37.31</td><td>14.38</td><td> 2.73</td><td>38.62</td><td>43.89</td><td>5.85</td><td>41.55</td><td>46.81</td><td> 170888</td></tr>\n",
       "\t<tr><td>Andalucía                 </td><td>Córdoba                   </td><td> 70.62</td><td>24.89</td><td>39.15</td><td>14.48</td><td> 5.34</td><td>30.70</td><td>33.77</td><td>6.14</td><td>29.17</td><td>36.84</td><td> 325708</td></tr>\n",
       "\t<tr><td>Andalucía                 </td><td>Dos Hermanas              </td><td> 23.28</td><td>19.01</td><td>39.20</td><td>14.48</td><td> 6.80</td><td> 9.76</td><td>12.01</td><td>1.80</td><td>10.51</td><td>12.77</td><td> 133168</td></tr>\n",
       "\t<tr><td>Comunidad Valenciana      </td><td>Elche                     </td><td> 37.29</td><td>13.08</td><td>37.31</td><td>14.38</td><td> 4.34</td><td>16.48</td><td>18.64</td><td>2.47</td><td>16.91</td><td>20.38</td><td> 230625</td></tr>\n",
       "\t<tr><td>Comunidad de Madrid       </td><td>Fuenlabrada               </td><td> 47.01</td><td> 9.89</td><td>34.45</td><td>17.13</td><td> 7.80</td><td>19.11</td><td>23.76</td><td>4.24</td><td>21.70</td><td>24.80</td><td> 193586</td></tr>\n",
       "\t<tr><td>Comunidad de Madrid       </td><td>Getafe                    </td><td> 66.39</td><td>10.20</td><td>34.47</td><td>17.13</td><td> 7.80</td><td>28.22</td><td>30.98</td><td>4.98</td><td>30.98</td><td>33.75</td><td> 180747</td></tr>\n",
       "\t<tr><td>Principado de Asturias    </td><td>Gijón                     </td><td> 51.50</td><td>14.10</td><td>33.92</td><td>15.64</td><td> 7.85</td><td>18.76</td><td>27.59</td><td>6.25</td><td>23.54</td><td>28.69</td><td> 271843</td></tr>\n",
       "\t<tr><td>Andalucía                 </td><td>Granada                   </td><td>124.89</td><td>19.08</td><td>39.40</td><td>14.48</td><td> 7.39</td><td>60.29</td><td>51.68</td><td>8.61</td><td>55.98</td><td>68.90</td><td> 232208</td></tr>\n",
       "\t<tr><td>Cataluña                  </td><td>Hospitalet de Llobregat   </td><td> 68.95</td><td>10.59</td><td>37.35</td><td>16.52</td><td> 6.55</td><td>33.32</td><td>31.41</td><td>5.75</td><td>34.09</td><td>36.77</td><td> 261068</td></tr>\n",
       "\t<tr><td>Andalucía                 </td><td>Huelva                    </td><td> 90.12</td><td>19.42</td><td>39.42</td><td>14.48</td><td> 7.39</td><td>42.29</td><td>42.98</td><td>6.45</td><td>42.29</td><td>49.91</td><td> 144258</td></tr>\n",
       "\t<tr><td>Andalucía                 </td><td>Jerez de la Frontera      </td><td> 46.98</td><td>19.06</td><td>39.40</td><td>14.48</td><td> 6.80</td><td>19.26</td><td>23.49</td><td>3.57</td><td>21.14</td><td>25.37</td><td> 212879</td></tr>\n",
       "\t<tr><td>Galicia                   </td><td>La Coruña                 </td><td> 89.85</td><td>11.46</td><td>24.27</td><td>14.23</td><td> 6.58</td><td>37.98</td><td>44.93</td><td>6.94</td><td>38.80</td><td>49.01</td><td> 244850</td></tr>\n",
       "\t<tr><td>Canarias                  </td><td>Las Palmas de G.C.        </td><td> 89.82</td><td>17.43</td><td>41.49</td><td>12.94</td><td> 4.31</td><td>39.63</td><td>44.91</td><td>6.34</td><td>39.63</td><td>50.20</td><td> 378517</td></tr>\n",
       "\t<tr><td>Comunidad de Madrid       </td><td>Leganés                   </td><td> 58.38</td><td>10.10</td><td>34.48</td><td>17.13</td><td>11.60</td><td>23.88</td><td>28.66</td><td>5.09</td><td>26.54</td><td>31.31</td><td> 188425</td></tr>\n",
       "\t<tr><td>Cataluña                  </td><td>Lérida                    </td><td> 72.54</td><td> 7.55</td><td>37.35</td><td>16.52</td><td>10.10</td><td>35.54</td><td>33.37</td><td>5.37</td><td>36.27</td><td>37.00</td><td> 137856</td></tr>\n",
       "\t<tr><td>La Rioja                  </td><td>Logroño                   </td><td> 56.25</td><td>11.21</td><td>24.56</td><td>14.62</td><td> 7.80</td><td>25.15</td><td>27.79</td><td>3.84</td><td>25.81</td><td>30.44</td><td> 151113</td></tr>\n",
       "\t<tr><td>Comunidad de Madrid       </td><td>Madrid                    </td><td> 96.17</td><td>10.60</td><td>34.49</td><td>17.13</td><td>15.78</td><td>46.54</td><td>43.43</td><td>6.20</td><td>43.43</td><td>52.74</td><td>3223334</td></tr>\n",
       "\t<tr><td>Andalucía                 </td><td>Málaga                    </td><td> 99.82</td><td>19.40</td><td>39.35</td><td>14.48</td><td> 2.92</td><td>45.53</td><td>47.28</td><td>8.23</td><td>45.53</td><td>54.29</td><td> 571026</td></tr>\n",
       "\t<tr><td>Andalucía                 </td><td>Marbella                  </td><td> 70.69</td><td>19.02</td><td>39.38</td><td>14.48</td><td> 6.80</td><td>31.10</td><td>33.93</td><td>6.50</td><td>32.52</td><td>38.88</td><td> 141463</td></tr>\n",
       "\t<tr><td>Comunidad de Madrid       </td><td>Móstoles                  </td><td> 45.39</td><td>10.50</td><td>34.48</td><td>17.13</td><td>12.80</td><td>18.83</td><td>21.25</td><td>4.83</td><td>20.76</td><td>24.63</td><td> 207095</td></tr>\n",
       "\t<tr><td>Región de Murcia          </td><td>Murcia                    </td><td> 84.98</td><td>16.46</td><td>44.99</td><td>13.85</td><td> 3.38</td><td>42.49</td><td>35.78</td><td>4.70</td><td>38.02</td><td>44.72</td><td> 447182</td></tr>\n",
       "\t<tr><td>Principado de Asturias    </td><td>Oviedo                    </td><td> 72.72</td><td>14.37</td><td>33.92</td><td>15.64</td><td> 7.31</td><td>27.72</td><td>35.45</td><td>7.27</td><td>30.91</td><td>38.63</td><td> 220020</td></tr>\n",
       "\t<tr><td>Islas Baleares            </td><td>Palma                     </td><td> 87.88</td><td>18.20</td><td>39.58</td><td>14.87</td><td> 3.42</td><td>41.50</td><td>39.06</td><td>6.35</td><td>41.50</td><td>46.38</td><td> 409661</td></tr>\n",
       "\t<tr><td>Comunidad Foral de Navarra</td><td>Pamplona                  </td><td> 80.38</td><td> 8.55</td><td>22.03</td><td>17.38</td><td>12.29</td><td>39.69</td><td>36.17</td><td>4.97</td><td>36.67</td><td>43.70</td><td> 199066</td></tr>\n",
       "\t<tr><td>Cataluña                  </td><td>Sabadell                  </td><td> 41.19</td><td>10.57</td><td>37.35</td><td>16.52</td><td> 6.55</td><td>16.38</td><td>20.60</td><td>4.12</td><td>19.66</td><td>21.53</td><td> 213644</td></tr>\n",
       "\t<tr><td>Castilla y León           </td><td>Salamanca                 </td><td> 61.40</td><td>13.17</td><td>26.38</td><td>14.33</td><td> 7.12</td><td>28.34</td><td>27.39</td><td>4.72</td><td>26.92</td><td>33.06</td><td> 211734</td></tr>\n",
       "\t<tr><td>Canarias                  </td><td>San Cristóbal de La Laguna</td><td> 15.43</td><td>17.05</td><td>41.49</td><td>12.94</td><td> 4.20</td><td> 7.07</td><td> 7.07</td><td>1.35</td><td> 7.71</td><td> 7.71</td><td> 155549</td></tr>\n",
       "\t<tr><td>País Vasco                </td><td>San Sebastián             </td><td> 58.93</td><td> 6.91</td><td>30.47</td><td>18.87</td><td> 8.17</td><td>28.39</td><td>27.32</td><td>4.23</td><td>26.79</td><td>33.21</td><td> 186665</td></tr>\n",
       "\t<tr><td>Canarias                  </td><td>Santa Cruz de Tenerife    </td><td>117.16</td><td>20.25</td><td>41.49</td><td>12.94</td><td> 4.60</td><td>53.70</td><td>58.58</td><td>7.81</td><td>48.81</td><td>63.46</td><td> 204856</td></tr>\n",
       "\t<tr><td>Cantabria                 </td><td>Santander                 </td><td> 87.19</td><td>11.09</td><td>43.83</td><td>14.42</td><td>10.62</td><td>38.36</td><td>43.01</td><td>7.56</td><td>38.94</td><td>49.41</td><td> 172044</td></tr>\n",
       "\t<tr><td>Andalucía                 </td><td>Sevilla                   </td><td> 90.02</td><td>21.70</td><td>39.47</td><td>14.48</td><td>11.27</td><td>42.11</td><td>42.11</td><td>6.53</td><td>39.20</td><td>50.82</td><td> 688711</td></tr>\n",
       "\t<tr><td>Cataluña                  </td><td>Tarragona                 </td><td> 98.26</td><td>12.83</td><td>37.35</td><td>16.52</td><td> 4.01</td><td>43.08</td><td>43.84</td><td>7.56</td><td>44.60</td><td>49.13</td><td> 132299</td></tr>\n",
       "\t<tr><td>Cataluña                  </td><td>Tarrasa                   </td><td> 37.52</td><td>10.40</td><td>37.35</td><td>16.52</td><td> 6.55</td><td>15.10</td><td>18.76</td><td>3.57</td><td>17.85</td><td>19.22</td><td> 218535</td></tr>\n",
       "\t<tr><td>Comunidad de Madrid       </td><td>Torrejón de Ardoz         </td><td> 53.96</td><td>10.30</td><td>34.49</td><td>17.13</td><td>13.50</td><td>23.13</td><td>26.21</td><td>4.16</td><td>25.44</td><td>28.52</td><td> 129729</td></tr>\n",
       "\t<tr><td>Comunidad Valenciana      </td><td>Valencia                  </td><td> 92.24</td><td>14.08</td><td>37.31</td><td>14.38</td><td> 4.18</td><td>41.70</td><td>44.22</td><td>6.82</td><td>41.70</td><td>50.54</td><td> 791413</td></tr>\n",
       "\t<tr><td>Castilla y León           </td><td>Valladolid                </td><td> 66.92</td><td> 9.55</td><td>26.38</td><td>14.33</td><td>11.00</td><td>27.77</td><td>32.79</td><td>5.35</td><td>30.78</td><td>33.46</td><td> 298866</td></tr>\n",
       "\t<tr><td>Galicia                   </td><td>Vigo                      </td><td> 71.52</td><td>15.27</td><td>24.27</td><td>14.23</td><td> 3.64</td><td>30.65</td><td>37.46</td><td>5.45</td><td>32.35</td><td>37.46</td><td> 293642</td></tr>\n",
       "\t<tr><td>País Vasco                </td><td>Vitoria                   </td><td> 48.16</td><td>10.50</td><td>30.47</td><td>18.87</td><td>26.76</td><td>22.88</td><td>23.68</td><td>3.21</td><td>23.68</td><td>25.68</td><td> 249176</td></tr>\n",
       "\t<tr><td>Aragón                    </td><td>Zaragoza                  </td><td> 61.48</td><td>11.06</td><td>37.32</td><td>15.29</td><td> 9.02</td><td>28.49</td><td>29.99</td><td>4.80</td><td>28.49</td><td>32.99</td><td> 666880</td></tr>\n",
       "</tbody>\n",
       "</table>\n"
      ],
      "text/latex": [
       "A spec\\_tbl\\_df: 50 × 13\n",
       "\\begin{tabular}{lllllllllllll}\n",
       " Comunidad & Ciudad & Cantidad de perfiles facebook & Tasa desempleo ciudad & \\% Población sedentaria & Salario medio por hora & Parques m2/hab & Usuarios jóvenes (18-39) & Usuarios adultos (40-64) & Usuarios mayores (+ 65) & Hombres & Mujeres & Población\\\\\n",
       " <chr> & <chr> & <dbl> & <dbl> & <dbl> & <dbl> & <dbl> & <dbl> & <dbl> & <dbl> & <dbl> & <dbl> & <dbl>\\\\\n",
       "\\hline\n",
       "\t Castilla-La Mancha         & Albacete                   &  63.57 & 20.72 & 43.18 & 14.09 &  7.16 & 29.47 & 28.89 & 3.81 & 30.05 & 32.36 &  173050\\\\\n",
       "\t Comunidad de Madrid        & Alcalá de Henares          &  49.03 & 10.20 & 34.48 & 17.13 & 11.20 & 21.16 & 23.74 & 3.46 & 22.71 & 25.29 &  193751\\\\\n",
       "\t Comunidad de Madrid        & Alcorcón                   &  55.46 & 10.15 & 34.48 & 17.13 &  7.80 & 21.83 & 27.73 & 5.90 & 24.78 & 30.09 &  169502\\\\\n",
       "\t Comunidad Valenciana       & Alicante                   &  87.46 & 15.01 & 37.31 & 14.38 &  6.12 & 39.21 & 42.22 & 7.54 & 39.21 & 48.25 &  331577\\\\\n",
       "\t Andalucía                  & Almería                    & 101.60 & 19.71 & 39.20 & 14.48 &  6.50 & 50.29 & 45.72 & 6.10 & 47.75 & 55.88 &  196851\\\\\n",
       "\t Extremadura                & Badajoz                    &  73.08 & 24.65 & 29.47 & 13.21 &  6.75 & 32.55 & 31.89 & 5.31 & 32.55 & 37.87 &  150530\\\\\n",
       "\t Cataluña                   & Badalona                   &  51.44 & 10.50 & 37.35 & 16.52 &  6.55 & 21.59 & 24.80 & 5.05 & 24.80 & 26.64 &  217741\\\\\n",
       "\t Cataluña                   & Barcelona                  & 117.26 & 10.58 & 37.35 & 16.52 &  5.53 & 54.93 & 49.37 & 8.64 & 53.08 & 59.86 & 1620343\\\\\n",
       "\t País Vasco                 & Bilbao                     &  89.64 & 10.72 & 30.47 & 18.87 &  5.73 & 40.48 & 43.38 & 5.21 & 40.48 & 49.16 &  345821\\\\\n",
       "\t Castilla y León            & Burgos                     &  47.75 &  9.76 & 26.38 & 14.33 &  2.80 & 21.60 & 22.17 & 3.30 & 22.17 & 25.01 &  175921\\\\\n",
       "\t Región de Murcia           & Cartagena                  &  44.40 & 16.20 & 44.99 & 13.85 &  5.97 & 20.10 & 20.57 & 3.51 & 20.57 & 23.37 &  213943\\\\\n",
       "\t Comunidad Valenciana       & Castellón de la plana      &  87.78 & 13.81 & 37.31 & 14.38 &  2.73 & 38.62 & 43.89 & 5.85 & 41.55 & 46.81 &  170888\\\\\n",
       "\t Andalucía                  & Córdoba                    &  70.62 & 24.89 & 39.15 & 14.48 &  5.34 & 30.70 & 33.77 & 6.14 & 29.17 & 36.84 &  325708\\\\\n",
       "\t Andalucía                  & Dos Hermanas               &  23.28 & 19.01 & 39.20 & 14.48 &  6.80 &  9.76 & 12.01 & 1.80 & 10.51 & 12.77 &  133168\\\\\n",
       "\t Comunidad Valenciana       & Elche                      &  37.29 & 13.08 & 37.31 & 14.38 &  4.34 & 16.48 & 18.64 & 2.47 & 16.91 & 20.38 &  230625\\\\\n",
       "\t Comunidad de Madrid        & Fuenlabrada                &  47.01 &  9.89 & 34.45 & 17.13 &  7.80 & 19.11 & 23.76 & 4.24 & 21.70 & 24.80 &  193586\\\\\n",
       "\t Comunidad de Madrid        & Getafe                     &  66.39 & 10.20 & 34.47 & 17.13 &  7.80 & 28.22 & 30.98 & 4.98 & 30.98 & 33.75 &  180747\\\\\n",
       "\t Principado de Asturias     & Gijón                      &  51.50 & 14.10 & 33.92 & 15.64 &  7.85 & 18.76 & 27.59 & 6.25 & 23.54 & 28.69 &  271843\\\\\n",
       "\t Andalucía                  & Granada                    & 124.89 & 19.08 & 39.40 & 14.48 &  7.39 & 60.29 & 51.68 & 8.61 & 55.98 & 68.90 &  232208\\\\\n",
       "\t Cataluña                   & Hospitalet de Llobregat    &  68.95 & 10.59 & 37.35 & 16.52 &  6.55 & 33.32 & 31.41 & 5.75 & 34.09 & 36.77 &  261068\\\\\n",
       "\t Andalucía                  & Huelva                     &  90.12 & 19.42 & 39.42 & 14.48 &  7.39 & 42.29 & 42.98 & 6.45 & 42.29 & 49.91 &  144258\\\\\n",
       "\t Andalucía                  & Jerez de la Frontera       &  46.98 & 19.06 & 39.40 & 14.48 &  6.80 & 19.26 & 23.49 & 3.57 & 21.14 & 25.37 &  212879\\\\\n",
       "\t Galicia                    & La Coruña                  &  89.85 & 11.46 & 24.27 & 14.23 &  6.58 & 37.98 & 44.93 & 6.94 & 38.80 & 49.01 &  244850\\\\\n",
       "\t Canarias                   & Las Palmas de G.C.         &  89.82 & 17.43 & 41.49 & 12.94 &  4.31 & 39.63 & 44.91 & 6.34 & 39.63 & 50.20 &  378517\\\\\n",
       "\t Comunidad de Madrid        & Leganés                    &  58.38 & 10.10 & 34.48 & 17.13 & 11.60 & 23.88 & 28.66 & 5.09 & 26.54 & 31.31 &  188425\\\\\n",
       "\t Cataluña                   & Lérida                     &  72.54 &  7.55 & 37.35 & 16.52 & 10.10 & 35.54 & 33.37 & 5.37 & 36.27 & 37.00 &  137856\\\\\n",
       "\t La Rioja                   & Logroño                    &  56.25 & 11.21 & 24.56 & 14.62 &  7.80 & 25.15 & 27.79 & 3.84 & 25.81 & 30.44 &  151113\\\\\n",
       "\t Comunidad de Madrid        & Madrid                     &  96.17 & 10.60 & 34.49 & 17.13 & 15.78 & 46.54 & 43.43 & 6.20 & 43.43 & 52.74 & 3223334\\\\\n",
       "\t Andalucía                  & Málaga                     &  99.82 & 19.40 & 39.35 & 14.48 &  2.92 & 45.53 & 47.28 & 8.23 & 45.53 & 54.29 &  571026\\\\\n",
       "\t Andalucía                  & Marbella                   &  70.69 & 19.02 & 39.38 & 14.48 &  6.80 & 31.10 & 33.93 & 6.50 & 32.52 & 38.88 &  141463\\\\\n",
       "\t Comunidad de Madrid        & Móstoles                   &  45.39 & 10.50 & 34.48 & 17.13 & 12.80 & 18.83 & 21.25 & 4.83 & 20.76 & 24.63 &  207095\\\\\n",
       "\t Región de Murcia           & Murcia                     &  84.98 & 16.46 & 44.99 & 13.85 &  3.38 & 42.49 & 35.78 & 4.70 & 38.02 & 44.72 &  447182\\\\\n",
       "\t Principado de Asturias     & Oviedo                     &  72.72 & 14.37 & 33.92 & 15.64 &  7.31 & 27.72 & 35.45 & 7.27 & 30.91 & 38.63 &  220020\\\\\n",
       "\t Islas Baleares             & Palma                      &  87.88 & 18.20 & 39.58 & 14.87 &  3.42 & 41.50 & 39.06 & 6.35 & 41.50 & 46.38 &  409661\\\\\n",
       "\t Comunidad Foral de Navarra & Pamplona                   &  80.38 &  8.55 & 22.03 & 17.38 & 12.29 & 39.69 & 36.17 & 4.97 & 36.67 & 43.70 &  199066\\\\\n",
       "\t Cataluña                   & Sabadell                   &  41.19 & 10.57 & 37.35 & 16.52 &  6.55 & 16.38 & 20.60 & 4.12 & 19.66 & 21.53 &  213644\\\\\n",
       "\t Castilla y León            & Salamanca                  &  61.40 & 13.17 & 26.38 & 14.33 &  7.12 & 28.34 & 27.39 & 4.72 & 26.92 & 33.06 &  211734\\\\\n",
       "\t Canarias                   & San Cristóbal de La Laguna &  15.43 & 17.05 & 41.49 & 12.94 &  4.20 &  7.07 &  7.07 & 1.35 &  7.71 &  7.71 &  155549\\\\\n",
       "\t País Vasco                 & San Sebastián              &  58.93 &  6.91 & 30.47 & 18.87 &  8.17 & 28.39 & 27.32 & 4.23 & 26.79 & 33.21 &  186665\\\\\n",
       "\t Canarias                   & Santa Cruz de Tenerife     & 117.16 & 20.25 & 41.49 & 12.94 &  4.60 & 53.70 & 58.58 & 7.81 & 48.81 & 63.46 &  204856\\\\\n",
       "\t Cantabria                  & Santander                  &  87.19 & 11.09 & 43.83 & 14.42 & 10.62 & 38.36 & 43.01 & 7.56 & 38.94 & 49.41 &  172044\\\\\n",
       "\t Andalucía                  & Sevilla                    &  90.02 & 21.70 & 39.47 & 14.48 & 11.27 & 42.11 & 42.11 & 6.53 & 39.20 & 50.82 &  688711\\\\\n",
       "\t Cataluña                   & Tarragona                  &  98.26 & 12.83 & 37.35 & 16.52 &  4.01 & 43.08 & 43.84 & 7.56 & 44.60 & 49.13 &  132299\\\\\n",
       "\t Cataluña                   & Tarrasa                    &  37.52 & 10.40 & 37.35 & 16.52 &  6.55 & 15.10 & 18.76 & 3.57 & 17.85 & 19.22 &  218535\\\\\n",
       "\t Comunidad de Madrid        & Torrejón de Ardoz          &  53.96 & 10.30 & 34.49 & 17.13 & 13.50 & 23.13 & 26.21 & 4.16 & 25.44 & 28.52 &  129729\\\\\n",
       "\t Comunidad Valenciana       & Valencia                   &  92.24 & 14.08 & 37.31 & 14.38 &  4.18 & 41.70 & 44.22 & 6.82 & 41.70 & 50.54 &  791413\\\\\n",
       "\t Castilla y León            & Valladolid                 &  66.92 &  9.55 & 26.38 & 14.33 & 11.00 & 27.77 & 32.79 & 5.35 & 30.78 & 33.46 &  298866\\\\\n",
       "\t Galicia                    & Vigo                       &  71.52 & 15.27 & 24.27 & 14.23 &  3.64 & 30.65 & 37.46 & 5.45 & 32.35 & 37.46 &  293642\\\\\n",
       "\t País Vasco                 & Vitoria                    &  48.16 & 10.50 & 30.47 & 18.87 & 26.76 & 22.88 & 23.68 & 3.21 & 23.68 & 25.68 &  249176\\\\\n",
       "\t Aragón                     & Zaragoza                   &  61.48 & 11.06 & 37.32 & 15.29 &  9.02 & 28.49 & 29.99 & 4.80 & 28.49 & 32.99 &  666880\\\\\n",
       "\\end{tabular}\n"
      ],
      "text/markdown": [
       "\n",
       "A spec_tbl_df: 50 × 13\n",
       "\n",
       "| Comunidad &lt;chr&gt; | Ciudad &lt;chr&gt; | Cantidad de perfiles facebook &lt;dbl&gt; | Tasa desempleo ciudad &lt;dbl&gt; | % Población sedentaria &lt;dbl&gt; | Salario medio por hora &lt;dbl&gt; | Parques m2/hab &lt;dbl&gt; | Usuarios jóvenes (18-39) &lt;dbl&gt; | Usuarios adultos (40-64) &lt;dbl&gt; | Usuarios mayores (+ 65) &lt;dbl&gt; | Hombres &lt;dbl&gt; | Mujeres &lt;dbl&gt; | Población &lt;dbl&gt; |\n",
       "|---|---|---|---|---|---|---|---|---|---|---|---|---|\n",
       "| Castilla-La Mancha         | Albacete                   |  63.57 | 20.72 | 43.18 | 14.09 |  7.16 | 29.47 | 28.89 | 3.81 | 30.05 | 32.36 |  173050 |\n",
       "| Comunidad de Madrid        | Alcalá de Henares          |  49.03 | 10.20 | 34.48 | 17.13 | 11.20 | 21.16 | 23.74 | 3.46 | 22.71 | 25.29 |  193751 |\n",
       "| Comunidad de Madrid        | Alcorcón                   |  55.46 | 10.15 | 34.48 | 17.13 |  7.80 | 21.83 | 27.73 | 5.90 | 24.78 | 30.09 |  169502 |\n",
       "| Comunidad Valenciana       | Alicante                   |  87.46 | 15.01 | 37.31 | 14.38 |  6.12 | 39.21 | 42.22 | 7.54 | 39.21 | 48.25 |  331577 |\n",
       "| Andalucía                  | Almería                    | 101.60 | 19.71 | 39.20 | 14.48 |  6.50 | 50.29 | 45.72 | 6.10 | 47.75 | 55.88 |  196851 |\n",
       "| Extremadura                | Badajoz                    |  73.08 | 24.65 | 29.47 | 13.21 |  6.75 | 32.55 | 31.89 | 5.31 | 32.55 | 37.87 |  150530 |\n",
       "| Cataluña                   | Badalona                   |  51.44 | 10.50 | 37.35 | 16.52 |  6.55 | 21.59 | 24.80 | 5.05 | 24.80 | 26.64 |  217741 |\n",
       "| Cataluña                   | Barcelona                  | 117.26 | 10.58 | 37.35 | 16.52 |  5.53 | 54.93 | 49.37 | 8.64 | 53.08 | 59.86 | 1620343 |\n",
       "| País Vasco                 | Bilbao                     |  89.64 | 10.72 | 30.47 | 18.87 |  5.73 | 40.48 | 43.38 | 5.21 | 40.48 | 49.16 |  345821 |\n",
       "| Castilla y León            | Burgos                     |  47.75 |  9.76 | 26.38 | 14.33 |  2.80 | 21.60 | 22.17 | 3.30 | 22.17 | 25.01 |  175921 |\n",
       "| Región de Murcia           | Cartagena                  |  44.40 | 16.20 | 44.99 | 13.85 |  5.97 | 20.10 | 20.57 | 3.51 | 20.57 | 23.37 |  213943 |\n",
       "| Comunidad Valenciana       | Castellón de la plana      |  87.78 | 13.81 | 37.31 | 14.38 |  2.73 | 38.62 | 43.89 | 5.85 | 41.55 | 46.81 |  170888 |\n",
       "| Andalucía                  | Córdoba                    |  70.62 | 24.89 | 39.15 | 14.48 |  5.34 | 30.70 | 33.77 | 6.14 | 29.17 | 36.84 |  325708 |\n",
       "| Andalucía                  | Dos Hermanas               |  23.28 | 19.01 | 39.20 | 14.48 |  6.80 |  9.76 | 12.01 | 1.80 | 10.51 | 12.77 |  133168 |\n",
       "| Comunidad Valenciana       | Elche                      |  37.29 | 13.08 | 37.31 | 14.38 |  4.34 | 16.48 | 18.64 | 2.47 | 16.91 | 20.38 |  230625 |\n",
       "| Comunidad de Madrid        | Fuenlabrada                |  47.01 |  9.89 | 34.45 | 17.13 |  7.80 | 19.11 | 23.76 | 4.24 | 21.70 | 24.80 |  193586 |\n",
       "| Comunidad de Madrid        | Getafe                     |  66.39 | 10.20 | 34.47 | 17.13 |  7.80 | 28.22 | 30.98 | 4.98 | 30.98 | 33.75 |  180747 |\n",
       "| Principado de Asturias     | Gijón                      |  51.50 | 14.10 | 33.92 | 15.64 |  7.85 | 18.76 | 27.59 | 6.25 | 23.54 | 28.69 |  271843 |\n",
       "| Andalucía                  | Granada                    | 124.89 | 19.08 | 39.40 | 14.48 |  7.39 | 60.29 | 51.68 | 8.61 | 55.98 | 68.90 |  232208 |\n",
       "| Cataluña                   | Hospitalet de Llobregat    |  68.95 | 10.59 | 37.35 | 16.52 |  6.55 | 33.32 | 31.41 | 5.75 | 34.09 | 36.77 |  261068 |\n",
       "| Andalucía                  | Huelva                     |  90.12 | 19.42 | 39.42 | 14.48 |  7.39 | 42.29 | 42.98 | 6.45 | 42.29 | 49.91 |  144258 |\n",
       "| Andalucía                  | Jerez de la Frontera       |  46.98 | 19.06 | 39.40 | 14.48 |  6.80 | 19.26 | 23.49 | 3.57 | 21.14 | 25.37 |  212879 |\n",
       "| Galicia                    | La Coruña                  |  89.85 | 11.46 | 24.27 | 14.23 |  6.58 | 37.98 | 44.93 | 6.94 | 38.80 | 49.01 |  244850 |\n",
       "| Canarias                   | Las Palmas de G.C.         |  89.82 | 17.43 | 41.49 | 12.94 |  4.31 | 39.63 | 44.91 | 6.34 | 39.63 | 50.20 |  378517 |\n",
       "| Comunidad de Madrid        | Leganés                    |  58.38 | 10.10 | 34.48 | 17.13 | 11.60 | 23.88 | 28.66 | 5.09 | 26.54 | 31.31 |  188425 |\n",
       "| Cataluña                   | Lérida                     |  72.54 |  7.55 | 37.35 | 16.52 | 10.10 | 35.54 | 33.37 | 5.37 | 36.27 | 37.00 |  137856 |\n",
       "| La Rioja                   | Logroño                    |  56.25 | 11.21 | 24.56 | 14.62 |  7.80 | 25.15 | 27.79 | 3.84 | 25.81 | 30.44 |  151113 |\n",
       "| Comunidad de Madrid        | Madrid                     |  96.17 | 10.60 | 34.49 | 17.13 | 15.78 | 46.54 | 43.43 | 6.20 | 43.43 | 52.74 | 3223334 |\n",
       "| Andalucía                  | Málaga                     |  99.82 | 19.40 | 39.35 | 14.48 |  2.92 | 45.53 | 47.28 | 8.23 | 45.53 | 54.29 |  571026 |\n",
       "| Andalucía                  | Marbella                   |  70.69 | 19.02 | 39.38 | 14.48 |  6.80 | 31.10 | 33.93 | 6.50 | 32.52 | 38.88 |  141463 |\n",
       "| Comunidad de Madrid        | Móstoles                   |  45.39 | 10.50 | 34.48 | 17.13 | 12.80 | 18.83 | 21.25 | 4.83 | 20.76 | 24.63 |  207095 |\n",
       "| Región de Murcia           | Murcia                     |  84.98 | 16.46 | 44.99 | 13.85 |  3.38 | 42.49 | 35.78 | 4.70 | 38.02 | 44.72 |  447182 |\n",
       "| Principado de Asturias     | Oviedo                     |  72.72 | 14.37 | 33.92 | 15.64 |  7.31 | 27.72 | 35.45 | 7.27 | 30.91 | 38.63 |  220020 |\n",
       "| Islas Baleares             | Palma                      |  87.88 | 18.20 | 39.58 | 14.87 |  3.42 | 41.50 | 39.06 | 6.35 | 41.50 | 46.38 |  409661 |\n",
       "| Comunidad Foral de Navarra | Pamplona                   |  80.38 |  8.55 | 22.03 | 17.38 | 12.29 | 39.69 | 36.17 | 4.97 | 36.67 | 43.70 |  199066 |\n",
       "| Cataluña                   | Sabadell                   |  41.19 | 10.57 | 37.35 | 16.52 |  6.55 | 16.38 | 20.60 | 4.12 | 19.66 | 21.53 |  213644 |\n",
       "| Castilla y León            | Salamanca                  |  61.40 | 13.17 | 26.38 | 14.33 |  7.12 | 28.34 | 27.39 | 4.72 | 26.92 | 33.06 |  211734 |\n",
       "| Canarias                   | San Cristóbal de La Laguna |  15.43 | 17.05 | 41.49 | 12.94 |  4.20 |  7.07 |  7.07 | 1.35 |  7.71 |  7.71 |  155549 |\n",
       "| País Vasco                 | San Sebastián              |  58.93 |  6.91 | 30.47 | 18.87 |  8.17 | 28.39 | 27.32 | 4.23 | 26.79 | 33.21 |  186665 |\n",
       "| Canarias                   | Santa Cruz de Tenerife     | 117.16 | 20.25 | 41.49 | 12.94 |  4.60 | 53.70 | 58.58 | 7.81 | 48.81 | 63.46 |  204856 |\n",
       "| Cantabria                  | Santander                  |  87.19 | 11.09 | 43.83 | 14.42 | 10.62 | 38.36 | 43.01 | 7.56 | 38.94 | 49.41 |  172044 |\n",
       "| Andalucía                  | Sevilla                    |  90.02 | 21.70 | 39.47 | 14.48 | 11.27 | 42.11 | 42.11 | 6.53 | 39.20 | 50.82 |  688711 |\n",
       "| Cataluña                   | Tarragona                  |  98.26 | 12.83 | 37.35 | 16.52 |  4.01 | 43.08 | 43.84 | 7.56 | 44.60 | 49.13 |  132299 |\n",
       "| Cataluña                   | Tarrasa                    |  37.52 | 10.40 | 37.35 | 16.52 |  6.55 | 15.10 | 18.76 | 3.57 | 17.85 | 19.22 |  218535 |\n",
       "| Comunidad de Madrid        | Torrejón de Ardoz          |  53.96 | 10.30 | 34.49 | 17.13 | 13.50 | 23.13 | 26.21 | 4.16 | 25.44 | 28.52 |  129729 |\n",
       "| Comunidad Valenciana       | Valencia                   |  92.24 | 14.08 | 37.31 | 14.38 |  4.18 | 41.70 | 44.22 | 6.82 | 41.70 | 50.54 |  791413 |\n",
       "| Castilla y León            | Valladolid                 |  66.92 |  9.55 | 26.38 | 14.33 | 11.00 | 27.77 | 32.79 | 5.35 | 30.78 | 33.46 |  298866 |\n",
       "| Galicia                    | Vigo                       |  71.52 | 15.27 | 24.27 | 14.23 |  3.64 | 30.65 | 37.46 | 5.45 | 32.35 | 37.46 |  293642 |\n",
       "| País Vasco                 | Vitoria                    |  48.16 | 10.50 | 30.47 | 18.87 | 26.76 | 22.88 | 23.68 | 3.21 | 23.68 | 25.68 |  249176 |\n",
       "| Aragón                     | Zaragoza                   |  61.48 | 11.06 | 37.32 | 15.29 |  9.02 | 28.49 | 29.99 | 4.80 | 28.49 | 32.99 |  666880 |\n",
       "\n"
      ],
      "text/plain": [
       "   Comunidad                  Ciudad                    \n",
       "1  Castilla-La Mancha         Albacete                  \n",
       "2  Comunidad de Madrid        Alcalá de Henares         \n",
       "3  Comunidad de Madrid        Alcorcón                  \n",
       "4  Comunidad Valenciana       Alicante                  \n",
       "5  Andalucía                  Almería                   \n",
       "6  Extremadura                Badajoz                   \n",
       "7  Cataluña                   Badalona                  \n",
       "8  Cataluña                   Barcelona                 \n",
       "9  País Vasco                 Bilbao                    \n",
       "10 Castilla y León            Burgos                    \n",
       "11 Región de Murcia           Cartagena                 \n",
       "12 Comunidad Valenciana       Castellón de la plana     \n",
       "13 Andalucía                  Córdoba                   \n",
       "14 Andalucía                  Dos Hermanas              \n",
       "15 Comunidad Valenciana       Elche                     \n",
       "16 Comunidad de Madrid        Fuenlabrada               \n",
       "17 Comunidad de Madrid        Getafe                    \n",
       "18 Principado de Asturias     Gijón                     \n",
       "19 Andalucía                  Granada                   \n",
       "20 Cataluña                   Hospitalet de Llobregat   \n",
       "21 Andalucía                  Huelva                    \n",
       "22 Andalucía                  Jerez de la Frontera      \n",
       "23 Galicia                    La Coruña                 \n",
       "24 Canarias                   Las Palmas de G.C.        \n",
       "25 Comunidad de Madrid        Leganés                   \n",
       "26 Cataluña                   Lérida                    \n",
       "27 La Rioja                   Logroño                   \n",
       "28 Comunidad de Madrid        Madrid                    \n",
       "29 Andalucía                  Málaga                    \n",
       "30 Andalucía                  Marbella                  \n",
       "31 Comunidad de Madrid        Móstoles                  \n",
       "32 Región de Murcia           Murcia                    \n",
       "33 Principado de Asturias     Oviedo                    \n",
       "34 Islas Baleares             Palma                     \n",
       "35 Comunidad Foral de Navarra Pamplona                  \n",
       "36 Cataluña                   Sabadell                  \n",
       "37 Castilla y León            Salamanca                 \n",
       "38 Canarias                   San Cristóbal de La Laguna\n",
       "39 País Vasco                 San Sebastián             \n",
       "40 Canarias                   Santa Cruz de Tenerife    \n",
       "41 Cantabria                  Santander                 \n",
       "42 Andalucía                  Sevilla                   \n",
       "43 Cataluña                   Tarragona                 \n",
       "44 Cataluña                   Tarrasa                   \n",
       "45 Comunidad de Madrid        Torrejón de Ardoz         \n",
       "46 Comunidad Valenciana       Valencia                  \n",
       "47 Castilla y León            Valladolid                \n",
       "48 Galicia                    Vigo                      \n",
       "49 País Vasco                 Vitoria                   \n",
       "50 Aragón                     Zaragoza                  \n",
       "   Cantidad de perfiles facebook Tasa desempleo ciudad % Población sedentaria\n",
       "1   63.57                        20.72                 43.18                 \n",
       "2   49.03                        10.20                 34.48                 \n",
       "3   55.46                        10.15                 34.48                 \n",
       "4   87.46                        15.01                 37.31                 \n",
       "5  101.60                        19.71                 39.20                 \n",
       "6   73.08                        24.65                 29.47                 \n",
       "7   51.44                        10.50                 37.35                 \n",
       "8  117.26                        10.58                 37.35                 \n",
       "9   89.64                        10.72                 30.47                 \n",
       "10  47.75                         9.76                 26.38                 \n",
       "11  44.40                        16.20                 44.99                 \n",
       "12  87.78                        13.81                 37.31                 \n",
       "13  70.62                        24.89                 39.15                 \n",
       "14  23.28                        19.01                 39.20                 \n",
       "15  37.29                        13.08                 37.31                 \n",
       "16  47.01                         9.89                 34.45                 \n",
       "17  66.39                        10.20                 34.47                 \n",
       "18  51.50                        14.10                 33.92                 \n",
       "19 124.89                        19.08                 39.40                 \n",
       "20  68.95                        10.59                 37.35                 \n",
       "21  90.12                        19.42                 39.42                 \n",
       "22  46.98                        19.06                 39.40                 \n",
       "23  89.85                        11.46                 24.27                 \n",
       "24  89.82                        17.43                 41.49                 \n",
       "25  58.38                        10.10                 34.48                 \n",
       "26  72.54                         7.55                 37.35                 \n",
       "27  56.25                        11.21                 24.56                 \n",
       "28  96.17                        10.60                 34.49                 \n",
       "29  99.82                        19.40                 39.35                 \n",
       "30  70.69                        19.02                 39.38                 \n",
       "31  45.39                        10.50                 34.48                 \n",
       "32  84.98                        16.46                 44.99                 \n",
       "33  72.72                        14.37                 33.92                 \n",
       "34  87.88                        18.20                 39.58                 \n",
       "35  80.38                         8.55                 22.03                 \n",
       "36  41.19                        10.57                 37.35                 \n",
       "37  61.40                        13.17                 26.38                 \n",
       "38  15.43                        17.05                 41.49                 \n",
       "39  58.93                         6.91                 30.47                 \n",
       "40 117.16                        20.25                 41.49                 \n",
       "41  87.19                        11.09                 43.83                 \n",
       "42  90.02                        21.70                 39.47                 \n",
       "43  98.26                        12.83                 37.35                 \n",
       "44  37.52                        10.40                 37.35                 \n",
       "45  53.96                        10.30                 34.49                 \n",
       "46  92.24                        14.08                 37.31                 \n",
       "47  66.92                         9.55                 26.38                 \n",
       "48  71.52                        15.27                 24.27                 \n",
       "49  48.16                        10.50                 30.47                 \n",
       "50  61.48                        11.06                 37.32                 \n",
       "   Salario medio por hora Parques m2/hab Usuarios jóvenes (18-39)\n",
       "1  14.09                   7.16          29.47                   \n",
       "2  17.13                  11.20          21.16                   \n",
       "3  17.13                   7.80          21.83                   \n",
       "4  14.38                   6.12          39.21                   \n",
       "5  14.48                   6.50          50.29                   \n",
       "6  13.21                   6.75          32.55                   \n",
       "7  16.52                   6.55          21.59                   \n",
       "8  16.52                   5.53          54.93                   \n",
       "9  18.87                   5.73          40.48                   \n",
       "10 14.33                   2.80          21.60                   \n",
       "11 13.85                   5.97          20.10                   \n",
       "12 14.38                   2.73          38.62                   \n",
       "13 14.48                   5.34          30.70                   \n",
       "14 14.48                   6.80           9.76                   \n",
       "15 14.38                   4.34          16.48                   \n",
       "16 17.13                   7.80          19.11                   \n",
       "17 17.13                   7.80          28.22                   \n",
       "18 15.64                   7.85          18.76                   \n",
       "19 14.48                   7.39          60.29                   \n",
       "20 16.52                   6.55          33.32                   \n",
       "21 14.48                   7.39          42.29                   \n",
       "22 14.48                   6.80          19.26                   \n",
       "23 14.23                   6.58          37.98                   \n",
       "24 12.94                   4.31          39.63                   \n",
       "25 17.13                  11.60          23.88                   \n",
       "26 16.52                  10.10          35.54                   \n",
       "27 14.62                   7.80          25.15                   \n",
       "28 17.13                  15.78          46.54                   \n",
       "29 14.48                   2.92          45.53                   \n",
       "30 14.48                   6.80          31.10                   \n",
       "31 17.13                  12.80          18.83                   \n",
       "32 13.85                   3.38          42.49                   \n",
       "33 15.64                   7.31          27.72                   \n",
       "34 14.87                   3.42          41.50                   \n",
       "35 17.38                  12.29          39.69                   \n",
       "36 16.52                   6.55          16.38                   \n",
       "37 14.33                   7.12          28.34                   \n",
       "38 12.94                   4.20           7.07                   \n",
       "39 18.87                   8.17          28.39                   \n",
       "40 12.94                   4.60          53.70                   \n",
       "41 14.42                  10.62          38.36                   \n",
       "42 14.48                  11.27          42.11                   \n",
       "43 16.52                   4.01          43.08                   \n",
       "44 16.52                   6.55          15.10                   \n",
       "45 17.13                  13.50          23.13                   \n",
       "46 14.38                   4.18          41.70                   \n",
       "47 14.33                  11.00          27.77                   \n",
       "48 14.23                   3.64          30.65                   \n",
       "49 18.87                  26.76          22.88                   \n",
       "50 15.29                   9.02          28.49                   \n",
       "   Usuarios adultos (40-64) Usuarios mayores (+ 65) Hombres Mujeres Población\n",
       "1  28.89                    3.81                    30.05   32.36    173050  \n",
       "2  23.74                    3.46                    22.71   25.29    193751  \n",
       "3  27.73                    5.90                    24.78   30.09    169502  \n",
       "4  42.22                    7.54                    39.21   48.25    331577  \n",
       "5  45.72                    6.10                    47.75   55.88    196851  \n",
       "6  31.89                    5.31                    32.55   37.87    150530  \n",
       "7  24.80                    5.05                    24.80   26.64    217741  \n",
       "8  49.37                    8.64                    53.08   59.86   1620343  \n",
       "9  43.38                    5.21                    40.48   49.16    345821  \n",
       "10 22.17                    3.30                    22.17   25.01    175921  \n",
       "11 20.57                    3.51                    20.57   23.37    213943  \n",
       "12 43.89                    5.85                    41.55   46.81    170888  \n",
       "13 33.77                    6.14                    29.17   36.84    325708  \n",
       "14 12.01                    1.80                    10.51   12.77    133168  \n",
       "15 18.64                    2.47                    16.91   20.38    230625  \n",
       "16 23.76                    4.24                    21.70   24.80    193586  \n",
       "17 30.98                    4.98                    30.98   33.75    180747  \n",
       "18 27.59                    6.25                    23.54   28.69    271843  \n",
       "19 51.68                    8.61                    55.98   68.90    232208  \n",
       "20 31.41                    5.75                    34.09   36.77    261068  \n",
       "21 42.98                    6.45                    42.29   49.91    144258  \n",
       "22 23.49                    3.57                    21.14   25.37    212879  \n",
       "23 44.93                    6.94                    38.80   49.01    244850  \n",
       "24 44.91                    6.34                    39.63   50.20    378517  \n",
       "25 28.66                    5.09                    26.54   31.31    188425  \n",
       "26 33.37                    5.37                    36.27   37.00    137856  \n",
       "27 27.79                    3.84                    25.81   30.44    151113  \n",
       "28 43.43                    6.20                    43.43   52.74   3223334  \n",
       "29 47.28                    8.23                    45.53   54.29    571026  \n",
       "30 33.93                    6.50                    32.52   38.88    141463  \n",
       "31 21.25                    4.83                    20.76   24.63    207095  \n",
       "32 35.78                    4.70                    38.02   44.72    447182  \n",
       "33 35.45                    7.27                    30.91   38.63    220020  \n",
       "34 39.06                    6.35                    41.50   46.38    409661  \n",
       "35 36.17                    4.97                    36.67   43.70    199066  \n",
       "36 20.60                    4.12                    19.66   21.53    213644  \n",
       "37 27.39                    4.72                    26.92   33.06    211734  \n",
       "38  7.07                    1.35                     7.71    7.71    155549  \n",
       "39 27.32                    4.23                    26.79   33.21    186665  \n",
       "40 58.58                    7.81                    48.81   63.46    204856  \n",
       "41 43.01                    7.56                    38.94   49.41    172044  \n",
       "42 42.11                    6.53                    39.20   50.82    688711  \n",
       "43 43.84                    7.56                    44.60   49.13    132299  \n",
       "44 18.76                    3.57                    17.85   19.22    218535  \n",
       "45 26.21                    4.16                    25.44   28.52    129729  \n",
       "46 44.22                    6.82                    41.70   50.54    791413  \n",
       "47 32.79                    5.35                    30.78   33.46    298866  \n",
       "48 37.46                    5.45                    32.35   37.46    293642  \n",
       "49 23.68                    3.21                    23.68   25.68    249176  \n",
       "50 29.99                    4.80                    28.49   32.99    666880  "
      ]
     },
     "metadata": {},
     "output_type": "display_data"
    }
   ],
   "source": [
    "dataset"
   ]
  },
  {
   "cell_type": "code",
   "execution_count": 21,
   "metadata": {},
   "outputs": [
    {
     "data": {
      "text/html": [
       "<style>\n",
       ".list-inline {list-style: none; margin:0; padding: 0}\n",
       ".list-inline>li {display: inline-block}\n",
       ".list-inline>li:not(:last-child)::after {content: \"\\00b7\"; padding: 0 .5ex}\n",
       "</style>\n",
       "<ol class=list-inline><li>'Comunidad'</li><li>'Ciudad'</li><li>'Cantidad de perfiles facebook'</li><li>'TasaDC'</li><li>'PobSeden'</li><li>'Hombres'</li><li>'Mujeres'</li></ol>\n"
      ],
      "text/latex": [
       "\\begin{enumerate*}\n",
       "\\item 'Comunidad'\n",
       "\\item 'Ciudad'\n",
       "\\item 'Cantidad de perfiles facebook'\n",
       "\\item 'TasaDC'\n",
       "\\item 'PobSeden'\n",
       "\\item 'Hombres'\n",
       "\\item 'Mujeres'\n",
       "\\end{enumerate*}\n"
      ],
      "text/markdown": [
       "1. 'Comunidad'\n",
       "2. 'Ciudad'\n",
       "3. 'Cantidad de perfiles facebook'\n",
       "4. 'TasaDC'\n",
       "5. 'PobSeden'\n",
       "6. 'Hombres'\n",
       "7. 'Mujeres'\n",
       "\n",
       "\n"
      ],
      "text/plain": [
       "[1] \"Comunidad\"                     \"Ciudad\"                       \n",
       "[3] \"Cantidad de perfiles facebook\" \"TasaDC\"                       \n",
       "[5] \"PobSeden\"                      \"Hombres\"                      \n",
       "[7] \"Mujeres\"                      "
      ]
     },
     "metadata": {},
     "output_type": "display_data"
    }
   ],
   "source": [
    "#Reducir el número de columnas a las que se van a utilizar\n",
    "#dataRed<- dataset %>%\n",
    "#            select('Comunidad', 'Ciudad','Cantidad de perfiles facebook','Tasa desempleo ciudad','% Población sedentaria','Hombres','Mujeres')\n",
    "#dataCuant<- dataset %>%\n",
    "#            select('Cantidad de perfiles facebook','Tasa desempleo ciudad','% Población sedentaria','Hombres','Mujeres')\n",
    "#str(dataCuant)\n",
    "\n",
    "dataRed <- dataset[, c('Comunidad', 'Ciudad','Cantidad de perfiles facebook','Tasa desempleo ciudad','% Población sedentaria','Hombres','Mujeres')]\n",
    "dataCuant <- dataset[, c('Cantidad de perfiles facebook','Tasa desempleo ciudad','% Población sedentaria','Hombres','Mujeres')]\n",
    "\n",
    "dataRed<- rename(dataRed, TasaDC = 'Tasa desempleo ciudad')\n",
    "dataRed<- rename(dataRed, PobSeden = '% Población sedentaria')\n",
    "\n",
    "colnames(dataRed)"
   ]
  },
  {
   "cell_type": "code",
   "execution_count": 22,
   "metadata": {},
   "outputs": [
    {
     "data": {
      "text/html": [
       "<table>\n",
       "<caption>A tibble: 50 × 7</caption>\n",
       "<thead>\n",
       "\t<tr><th scope=col>Comunidad</th><th scope=col>Ciudad</th><th scope=col>Cantidad de perfiles facebook</th><th scope=col>TasaDC</th><th scope=col>PobSeden</th><th scope=col>Hombres</th><th scope=col>Mujeres</th></tr>\n",
       "\t<tr><th scope=col>&lt;chr&gt;</th><th scope=col>&lt;chr&gt;</th><th scope=col>&lt;dbl&gt;</th><th scope=col>&lt;dbl&gt;</th><th scope=col>&lt;dbl&gt;</th><th scope=col>&lt;dbl&gt;</th><th scope=col>&lt;dbl&gt;</th></tr>\n",
       "</thead>\n",
       "<tbody>\n",
       "\t<tr><td>Castilla-La Mancha        </td><td>Albacete                  </td><td> 63.57</td><td>20.72</td><td>43.18</td><td>30.05</td><td>32.36</td></tr>\n",
       "\t<tr><td>Comunidad de Madrid       </td><td>Alcalá de Henares         </td><td> 49.03</td><td>10.20</td><td>34.48</td><td>22.71</td><td>25.29</td></tr>\n",
       "\t<tr><td>Comunidad de Madrid       </td><td>Alcorcón                  </td><td> 55.46</td><td>10.15</td><td>34.48</td><td>24.78</td><td>30.09</td></tr>\n",
       "\t<tr><td>Comunidad Valenciana      </td><td>Alicante                  </td><td> 87.46</td><td>15.01</td><td>37.31</td><td>39.21</td><td>48.25</td></tr>\n",
       "\t<tr><td>Andalucía                 </td><td>Almería                   </td><td>101.60</td><td>19.71</td><td>39.20</td><td>47.75</td><td>55.88</td></tr>\n",
       "\t<tr><td>Extremadura               </td><td>Badajoz                   </td><td> 73.08</td><td>24.65</td><td>29.47</td><td>32.55</td><td>37.87</td></tr>\n",
       "\t<tr><td>Cataluña                  </td><td>Badalona                  </td><td> 51.44</td><td>10.50</td><td>37.35</td><td>24.80</td><td>26.64</td></tr>\n",
       "\t<tr><td>Cataluña                  </td><td>Barcelona                 </td><td>117.26</td><td>10.58</td><td>37.35</td><td>53.08</td><td>59.86</td></tr>\n",
       "\t<tr><td>País Vasco                </td><td>Bilbao                    </td><td> 89.64</td><td>10.72</td><td>30.47</td><td>40.48</td><td>49.16</td></tr>\n",
       "\t<tr><td>Castilla y León           </td><td>Burgos                    </td><td> 47.75</td><td> 9.76</td><td>26.38</td><td>22.17</td><td>25.01</td></tr>\n",
       "\t<tr><td>Región de Murcia          </td><td>Cartagena                 </td><td> 44.40</td><td>16.20</td><td>44.99</td><td>20.57</td><td>23.37</td></tr>\n",
       "\t<tr><td>Comunidad Valenciana      </td><td>Castellón de la plana     </td><td> 87.78</td><td>13.81</td><td>37.31</td><td>41.55</td><td>46.81</td></tr>\n",
       "\t<tr><td>Andalucía                 </td><td>Córdoba                   </td><td> 70.62</td><td>24.89</td><td>39.15</td><td>29.17</td><td>36.84</td></tr>\n",
       "\t<tr><td>Andalucía                 </td><td>Dos Hermanas              </td><td> 23.28</td><td>19.01</td><td>39.20</td><td>10.51</td><td>12.77</td></tr>\n",
       "\t<tr><td>Comunidad Valenciana      </td><td>Elche                     </td><td> 37.29</td><td>13.08</td><td>37.31</td><td>16.91</td><td>20.38</td></tr>\n",
       "\t<tr><td>Comunidad de Madrid       </td><td>Fuenlabrada               </td><td> 47.01</td><td> 9.89</td><td>34.45</td><td>21.70</td><td>24.80</td></tr>\n",
       "\t<tr><td>Comunidad de Madrid       </td><td>Getafe                    </td><td> 66.39</td><td>10.20</td><td>34.47</td><td>30.98</td><td>33.75</td></tr>\n",
       "\t<tr><td>Principado de Asturias    </td><td>Gijón                     </td><td> 51.50</td><td>14.10</td><td>33.92</td><td>23.54</td><td>28.69</td></tr>\n",
       "\t<tr><td>Andalucía                 </td><td>Granada                   </td><td>124.89</td><td>19.08</td><td>39.40</td><td>55.98</td><td>68.90</td></tr>\n",
       "\t<tr><td>Cataluña                  </td><td>Hospitalet de Llobregat   </td><td> 68.95</td><td>10.59</td><td>37.35</td><td>34.09</td><td>36.77</td></tr>\n",
       "\t<tr><td>Andalucía                 </td><td>Huelva                    </td><td> 90.12</td><td>19.42</td><td>39.42</td><td>42.29</td><td>49.91</td></tr>\n",
       "\t<tr><td>Andalucía                 </td><td>Jerez de la Frontera      </td><td> 46.98</td><td>19.06</td><td>39.40</td><td>21.14</td><td>25.37</td></tr>\n",
       "\t<tr><td>Galicia                   </td><td>La Coruña                 </td><td> 89.85</td><td>11.46</td><td>24.27</td><td>38.80</td><td>49.01</td></tr>\n",
       "\t<tr><td>Canarias                  </td><td>Las Palmas de G.C.        </td><td> 89.82</td><td>17.43</td><td>41.49</td><td>39.63</td><td>50.20</td></tr>\n",
       "\t<tr><td>Comunidad de Madrid       </td><td>Leganés                   </td><td> 58.38</td><td>10.10</td><td>34.48</td><td>26.54</td><td>31.31</td></tr>\n",
       "\t<tr><td>Cataluña                  </td><td>Lérida                    </td><td> 72.54</td><td> 7.55</td><td>37.35</td><td>36.27</td><td>37.00</td></tr>\n",
       "\t<tr><td>La Rioja                  </td><td>Logroño                   </td><td> 56.25</td><td>11.21</td><td>24.56</td><td>25.81</td><td>30.44</td></tr>\n",
       "\t<tr><td>Comunidad de Madrid       </td><td>Madrid                    </td><td> 96.17</td><td>10.60</td><td>34.49</td><td>43.43</td><td>52.74</td></tr>\n",
       "\t<tr><td>Andalucía                 </td><td>Málaga                    </td><td> 99.82</td><td>19.40</td><td>39.35</td><td>45.53</td><td>54.29</td></tr>\n",
       "\t<tr><td>Andalucía                 </td><td>Marbella                  </td><td> 70.69</td><td>19.02</td><td>39.38</td><td>32.52</td><td>38.88</td></tr>\n",
       "\t<tr><td>Comunidad de Madrid       </td><td>Móstoles                  </td><td> 45.39</td><td>10.50</td><td>34.48</td><td>20.76</td><td>24.63</td></tr>\n",
       "\t<tr><td>Región de Murcia          </td><td>Murcia                    </td><td> 84.98</td><td>16.46</td><td>44.99</td><td>38.02</td><td>44.72</td></tr>\n",
       "\t<tr><td>Principado de Asturias    </td><td>Oviedo                    </td><td> 72.72</td><td>14.37</td><td>33.92</td><td>30.91</td><td>38.63</td></tr>\n",
       "\t<tr><td>Islas Baleares            </td><td>Palma                     </td><td> 87.88</td><td>18.20</td><td>39.58</td><td>41.50</td><td>46.38</td></tr>\n",
       "\t<tr><td>Comunidad Foral de Navarra</td><td>Pamplona                  </td><td> 80.38</td><td> 8.55</td><td>22.03</td><td>36.67</td><td>43.70</td></tr>\n",
       "\t<tr><td>Cataluña                  </td><td>Sabadell                  </td><td> 41.19</td><td>10.57</td><td>37.35</td><td>19.66</td><td>21.53</td></tr>\n",
       "\t<tr><td>Castilla y León           </td><td>Salamanca                 </td><td> 61.40</td><td>13.17</td><td>26.38</td><td>26.92</td><td>33.06</td></tr>\n",
       "\t<tr><td>Canarias                  </td><td>San Cristóbal de La Laguna</td><td> 15.43</td><td>17.05</td><td>41.49</td><td> 7.71</td><td> 7.71</td></tr>\n",
       "\t<tr><td>País Vasco                </td><td>San Sebastián             </td><td> 58.93</td><td> 6.91</td><td>30.47</td><td>26.79</td><td>33.21</td></tr>\n",
       "\t<tr><td>Canarias                  </td><td>Santa Cruz de Tenerife    </td><td>117.16</td><td>20.25</td><td>41.49</td><td>48.81</td><td>63.46</td></tr>\n",
       "\t<tr><td>Cantabria                 </td><td>Santander                 </td><td> 87.19</td><td>11.09</td><td>43.83</td><td>38.94</td><td>49.41</td></tr>\n",
       "\t<tr><td>Andalucía                 </td><td>Sevilla                   </td><td> 90.02</td><td>21.70</td><td>39.47</td><td>39.20</td><td>50.82</td></tr>\n",
       "\t<tr><td>Cataluña                  </td><td>Tarragona                 </td><td> 98.26</td><td>12.83</td><td>37.35</td><td>44.60</td><td>49.13</td></tr>\n",
       "\t<tr><td>Cataluña                  </td><td>Tarrasa                   </td><td> 37.52</td><td>10.40</td><td>37.35</td><td>17.85</td><td>19.22</td></tr>\n",
       "\t<tr><td>Comunidad de Madrid       </td><td>Torrejón de Ardoz         </td><td> 53.96</td><td>10.30</td><td>34.49</td><td>25.44</td><td>28.52</td></tr>\n",
       "\t<tr><td>Comunidad Valenciana      </td><td>Valencia                  </td><td> 92.24</td><td>14.08</td><td>37.31</td><td>41.70</td><td>50.54</td></tr>\n",
       "\t<tr><td>Castilla y León           </td><td>Valladolid                </td><td> 66.92</td><td> 9.55</td><td>26.38</td><td>30.78</td><td>33.46</td></tr>\n",
       "\t<tr><td>Galicia                   </td><td>Vigo                      </td><td> 71.52</td><td>15.27</td><td>24.27</td><td>32.35</td><td>37.46</td></tr>\n",
       "\t<tr><td>País Vasco                </td><td>Vitoria                   </td><td> 48.16</td><td>10.50</td><td>30.47</td><td>23.68</td><td>25.68</td></tr>\n",
       "\t<tr><td>Aragón                    </td><td>Zaragoza                  </td><td> 61.48</td><td>11.06</td><td>37.32</td><td>28.49</td><td>32.99</td></tr>\n",
       "</tbody>\n",
       "</table>\n"
      ],
      "text/latex": [
       "A tibble: 50 × 7\n",
       "\\begin{tabular}{lllllll}\n",
       " Comunidad & Ciudad & Cantidad de perfiles facebook & TasaDC & PobSeden & Hombres & Mujeres\\\\\n",
       " <chr> & <chr> & <dbl> & <dbl> & <dbl> & <dbl> & <dbl>\\\\\n",
       "\\hline\n",
       "\t Castilla-La Mancha         & Albacete                   &  63.57 & 20.72 & 43.18 & 30.05 & 32.36\\\\\n",
       "\t Comunidad de Madrid        & Alcalá de Henares          &  49.03 & 10.20 & 34.48 & 22.71 & 25.29\\\\\n",
       "\t Comunidad de Madrid        & Alcorcón                   &  55.46 & 10.15 & 34.48 & 24.78 & 30.09\\\\\n",
       "\t Comunidad Valenciana       & Alicante                   &  87.46 & 15.01 & 37.31 & 39.21 & 48.25\\\\\n",
       "\t Andalucía                  & Almería                    & 101.60 & 19.71 & 39.20 & 47.75 & 55.88\\\\\n",
       "\t Extremadura                & Badajoz                    &  73.08 & 24.65 & 29.47 & 32.55 & 37.87\\\\\n",
       "\t Cataluña                   & Badalona                   &  51.44 & 10.50 & 37.35 & 24.80 & 26.64\\\\\n",
       "\t Cataluña                   & Barcelona                  & 117.26 & 10.58 & 37.35 & 53.08 & 59.86\\\\\n",
       "\t País Vasco                 & Bilbao                     &  89.64 & 10.72 & 30.47 & 40.48 & 49.16\\\\\n",
       "\t Castilla y León            & Burgos                     &  47.75 &  9.76 & 26.38 & 22.17 & 25.01\\\\\n",
       "\t Región de Murcia           & Cartagena                  &  44.40 & 16.20 & 44.99 & 20.57 & 23.37\\\\\n",
       "\t Comunidad Valenciana       & Castellón de la plana      &  87.78 & 13.81 & 37.31 & 41.55 & 46.81\\\\\n",
       "\t Andalucía                  & Córdoba                    &  70.62 & 24.89 & 39.15 & 29.17 & 36.84\\\\\n",
       "\t Andalucía                  & Dos Hermanas               &  23.28 & 19.01 & 39.20 & 10.51 & 12.77\\\\\n",
       "\t Comunidad Valenciana       & Elche                      &  37.29 & 13.08 & 37.31 & 16.91 & 20.38\\\\\n",
       "\t Comunidad de Madrid        & Fuenlabrada                &  47.01 &  9.89 & 34.45 & 21.70 & 24.80\\\\\n",
       "\t Comunidad de Madrid        & Getafe                     &  66.39 & 10.20 & 34.47 & 30.98 & 33.75\\\\\n",
       "\t Principado de Asturias     & Gijón                      &  51.50 & 14.10 & 33.92 & 23.54 & 28.69\\\\\n",
       "\t Andalucía                  & Granada                    & 124.89 & 19.08 & 39.40 & 55.98 & 68.90\\\\\n",
       "\t Cataluña                   & Hospitalet de Llobregat    &  68.95 & 10.59 & 37.35 & 34.09 & 36.77\\\\\n",
       "\t Andalucía                  & Huelva                     &  90.12 & 19.42 & 39.42 & 42.29 & 49.91\\\\\n",
       "\t Andalucía                  & Jerez de la Frontera       &  46.98 & 19.06 & 39.40 & 21.14 & 25.37\\\\\n",
       "\t Galicia                    & La Coruña                  &  89.85 & 11.46 & 24.27 & 38.80 & 49.01\\\\\n",
       "\t Canarias                   & Las Palmas de G.C.         &  89.82 & 17.43 & 41.49 & 39.63 & 50.20\\\\\n",
       "\t Comunidad de Madrid        & Leganés                    &  58.38 & 10.10 & 34.48 & 26.54 & 31.31\\\\\n",
       "\t Cataluña                   & Lérida                     &  72.54 &  7.55 & 37.35 & 36.27 & 37.00\\\\\n",
       "\t La Rioja                   & Logroño                    &  56.25 & 11.21 & 24.56 & 25.81 & 30.44\\\\\n",
       "\t Comunidad de Madrid        & Madrid                     &  96.17 & 10.60 & 34.49 & 43.43 & 52.74\\\\\n",
       "\t Andalucía                  & Málaga                     &  99.82 & 19.40 & 39.35 & 45.53 & 54.29\\\\\n",
       "\t Andalucía                  & Marbella                   &  70.69 & 19.02 & 39.38 & 32.52 & 38.88\\\\\n",
       "\t Comunidad de Madrid        & Móstoles                   &  45.39 & 10.50 & 34.48 & 20.76 & 24.63\\\\\n",
       "\t Región de Murcia           & Murcia                     &  84.98 & 16.46 & 44.99 & 38.02 & 44.72\\\\\n",
       "\t Principado de Asturias     & Oviedo                     &  72.72 & 14.37 & 33.92 & 30.91 & 38.63\\\\\n",
       "\t Islas Baleares             & Palma                      &  87.88 & 18.20 & 39.58 & 41.50 & 46.38\\\\\n",
       "\t Comunidad Foral de Navarra & Pamplona                   &  80.38 &  8.55 & 22.03 & 36.67 & 43.70\\\\\n",
       "\t Cataluña                   & Sabadell                   &  41.19 & 10.57 & 37.35 & 19.66 & 21.53\\\\\n",
       "\t Castilla y León            & Salamanca                  &  61.40 & 13.17 & 26.38 & 26.92 & 33.06\\\\\n",
       "\t Canarias                   & San Cristóbal de La Laguna &  15.43 & 17.05 & 41.49 &  7.71 &  7.71\\\\\n",
       "\t País Vasco                 & San Sebastián              &  58.93 &  6.91 & 30.47 & 26.79 & 33.21\\\\\n",
       "\t Canarias                   & Santa Cruz de Tenerife     & 117.16 & 20.25 & 41.49 & 48.81 & 63.46\\\\\n",
       "\t Cantabria                  & Santander                  &  87.19 & 11.09 & 43.83 & 38.94 & 49.41\\\\\n",
       "\t Andalucía                  & Sevilla                    &  90.02 & 21.70 & 39.47 & 39.20 & 50.82\\\\\n",
       "\t Cataluña                   & Tarragona                  &  98.26 & 12.83 & 37.35 & 44.60 & 49.13\\\\\n",
       "\t Cataluña                   & Tarrasa                    &  37.52 & 10.40 & 37.35 & 17.85 & 19.22\\\\\n",
       "\t Comunidad de Madrid        & Torrejón de Ardoz          &  53.96 & 10.30 & 34.49 & 25.44 & 28.52\\\\\n",
       "\t Comunidad Valenciana       & Valencia                   &  92.24 & 14.08 & 37.31 & 41.70 & 50.54\\\\\n",
       "\t Castilla y León            & Valladolid                 &  66.92 &  9.55 & 26.38 & 30.78 & 33.46\\\\\n",
       "\t Galicia                    & Vigo                       &  71.52 & 15.27 & 24.27 & 32.35 & 37.46\\\\\n",
       "\t País Vasco                 & Vitoria                    &  48.16 & 10.50 & 30.47 & 23.68 & 25.68\\\\\n",
       "\t Aragón                     & Zaragoza                   &  61.48 & 11.06 & 37.32 & 28.49 & 32.99\\\\\n",
       "\\end{tabular}\n"
      ],
      "text/markdown": [
       "\n",
       "A tibble: 50 × 7\n",
       "\n",
       "| Comunidad &lt;chr&gt; | Ciudad &lt;chr&gt; | Cantidad de perfiles facebook &lt;dbl&gt; | TasaDC &lt;dbl&gt; | PobSeden &lt;dbl&gt; | Hombres &lt;dbl&gt; | Mujeres &lt;dbl&gt; |\n",
       "|---|---|---|---|---|---|---|\n",
       "| Castilla-La Mancha         | Albacete                   |  63.57 | 20.72 | 43.18 | 30.05 | 32.36 |\n",
       "| Comunidad de Madrid        | Alcalá de Henares          |  49.03 | 10.20 | 34.48 | 22.71 | 25.29 |\n",
       "| Comunidad de Madrid        | Alcorcón                   |  55.46 | 10.15 | 34.48 | 24.78 | 30.09 |\n",
       "| Comunidad Valenciana       | Alicante                   |  87.46 | 15.01 | 37.31 | 39.21 | 48.25 |\n",
       "| Andalucía                  | Almería                    | 101.60 | 19.71 | 39.20 | 47.75 | 55.88 |\n",
       "| Extremadura                | Badajoz                    |  73.08 | 24.65 | 29.47 | 32.55 | 37.87 |\n",
       "| Cataluña                   | Badalona                   |  51.44 | 10.50 | 37.35 | 24.80 | 26.64 |\n",
       "| Cataluña                   | Barcelona                  | 117.26 | 10.58 | 37.35 | 53.08 | 59.86 |\n",
       "| País Vasco                 | Bilbao                     |  89.64 | 10.72 | 30.47 | 40.48 | 49.16 |\n",
       "| Castilla y León            | Burgos                     |  47.75 |  9.76 | 26.38 | 22.17 | 25.01 |\n",
       "| Región de Murcia           | Cartagena                  |  44.40 | 16.20 | 44.99 | 20.57 | 23.37 |\n",
       "| Comunidad Valenciana       | Castellón de la plana      |  87.78 | 13.81 | 37.31 | 41.55 | 46.81 |\n",
       "| Andalucía                  | Córdoba                    |  70.62 | 24.89 | 39.15 | 29.17 | 36.84 |\n",
       "| Andalucía                  | Dos Hermanas               |  23.28 | 19.01 | 39.20 | 10.51 | 12.77 |\n",
       "| Comunidad Valenciana       | Elche                      |  37.29 | 13.08 | 37.31 | 16.91 | 20.38 |\n",
       "| Comunidad de Madrid        | Fuenlabrada                |  47.01 |  9.89 | 34.45 | 21.70 | 24.80 |\n",
       "| Comunidad de Madrid        | Getafe                     |  66.39 | 10.20 | 34.47 | 30.98 | 33.75 |\n",
       "| Principado de Asturias     | Gijón                      |  51.50 | 14.10 | 33.92 | 23.54 | 28.69 |\n",
       "| Andalucía                  | Granada                    | 124.89 | 19.08 | 39.40 | 55.98 | 68.90 |\n",
       "| Cataluña                   | Hospitalet de Llobregat    |  68.95 | 10.59 | 37.35 | 34.09 | 36.77 |\n",
       "| Andalucía                  | Huelva                     |  90.12 | 19.42 | 39.42 | 42.29 | 49.91 |\n",
       "| Andalucía                  | Jerez de la Frontera       |  46.98 | 19.06 | 39.40 | 21.14 | 25.37 |\n",
       "| Galicia                    | La Coruña                  |  89.85 | 11.46 | 24.27 | 38.80 | 49.01 |\n",
       "| Canarias                   | Las Palmas de G.C.         |  89.82 | 17.43 | 41.49 | 39.63 | 50.20 |\n",
       "| Comunidad de Madrid        | Leganés                    |  58.38 | 10.10 | 34.48 | 26.54 | 31.31 |\n",
       "| Cataluña                   | Lérida                     |  72.54 |  7.55 | 37.35 | 36.27 | 37.00 |\n",
       "| La Rioja                   | Logroño                    |  56.25 | 11.21 | 24.56 | 25.81 | 30.44 |\n",
       "| Comunidad de Madrid        | Madrid                     |  96.17 | 10.60 | 34.49 | 43.43 | 52.74 |\n",
       "| Andalucía                  | Málaga                     |  99.82 | 19.40 | 39.35 | 45.53 | 54.29 |\n",
       "| Andalucía                  | Marbella                   |  70.69 | 19.02 | 39.38 | 32.52 | 38.88 |\n",
       "| Comunidad de Madrid        | Móstoles                   |  45.39 | 10.50 | 34.48 | 20.76 | 24.63 |\n",
       "| Región de Murcia           | Murcia                     |  84.98 | 16.46 | 44.99 | 38.02 | 44.72 |\n",
       "| Principado de Asturias     | Oviedo                     |  72.72 | 14.37 | 33.92 | 30.91 | 38.63 |\n",
       "| Islas Baleares             | Palma                      |  87.88 | 18.20 | 39.58 | 41.50 | 46.38 |\n",
       "| Comunidad Foral de Navarra | Pamplona                   |  80.38 |  8.55 | 22.03 | 36.67 | 43.70 |\n",
       "| Cataluña                   | Sabadell                   |  41.19 | 10.57 | 37.35 | 19.66 | 21.53 |\n",
       "| Castilla y León            | Salamanca                  |  61.40 | 13.17 | 26.38 | 26.92 | 33.06 |\n",
       "| Canarias                   | San Cristóbal de La Laguna |  15.43 | 17.05 | 41.49 |  7.71 |  7.71 |\n",
       "| País Vasco                 | San Sebastián              |  58.93 |  6.91 | 30.47 | 26.79 | 33.21 |\n",
       "| Canarias                   | Santa Cruz de Tenerife     | 117.16 | 20.25 | 41.49 | 48.81 | 63.46 |\n",
       "| Cantabria                  | Santander                  |  87.19 | 11.09 | 43.83 | 38.94 | 49.41 |\n",
       "| Andalucía                  | Sevilla                    |  90.02 | 21.70 | 39.47 | 39.20 | 50.82 |\n",
       "| Cataluña                   | Tarragona                  |  98.26 | 12.83 | 37.35 | 44.60 | 49.13 |\n",
       "| Cataluña                   | Tarrasa                    |  37.52 | 10.40 | 37.35 | 17.85 | 19.22 |\n",
       "| Comunidad de Madrid        | Torrejón de Ardoz          |  53.96 | 10.30 | 34.49 | 25.44 | 28.52 |\n",
       "| Comunidad Valenciana       | Valencia                   |  92.24 | 14.08 | 37.31 | 41.70 | 50.54 |\n",
       "| Castilla y León            | Valladolid                 |  66.92 |  9.55 | 26.38 | 30.78 | 33.46 |\n",
       "| Galicia                    | Vigo                       |  71.52 | 15.27 | 24.27 | 32.35 | 37.46 |\n",
       "| País Vasco                 | Vitoria                    |  48.16 | 10.50 | 30.47 | 23.68 | 25.68 |\n",
       "| Aragón                     | Zaragoza                   |  61.48 | 11.06 | 37.32 | 28.49 | 32.99 |\n",
       "\n"
      ],
      "text/plain": [
       "   Comunidad                  Ciudad                    \n",
       "1  Castilla-La Mancha         Albacete                  \n",
       "2  Comunidad de Madrid        Alcalá de Henares         \n",
       "3  Comunidad de Madrid        Alcorcón                  \n",
       "4  Comunidad Valenciana       Alicante                  \n",
       "5  Andalucía                  Almería                   \n",
       "6  Extremadura                Badajoz                   \n",
       "7  Cataluña                   Badalona                  \n",
       "8  Cataluña                   Barcelona                 \n",
       "9  País Vasco                 Bilbao                    \n",
       "10 Castilla y León            Burgos                    \n",
       "11 Región de Murcia           Cartagena                 \n",
       "12 Comunidad Valenciana       Castellón de la plana     \n",
       "13 Andalucía                  Córdoba                   \n",
       "14 Andalucía                  Dos Hermanas              \n",
       "15 Comunidad Valenciana       Elche                     \n",
       "16 Comunidad de Madrid        Fuenlabrada               \n",
       "17 Comunidad de Madrid        Getafe                    \n",
       "18 Principado de Asturias     Gijón                     \n",
       "19 Andalucía                  Granada                   \n",
       "20 Cataluña                   Hospitalet de Llobregat   \n",
       "21 Andalucía                  Huelva                    \n",
       "22 Andalucía                  Jerez de la Frontera      \n",
       "23 Galicia                    La Coruña                 \n",
       "24 Canarias                   Las Palmas de G.C.        \n",
       "25 Comunidad de Madrid        Leganés                   \n",
       "26 Cataluña                   Lérida                    \n",
       "27 La Rioja                   Logroño                   \n",
       "28 Comunidad de Madrid        Madrid                    \n",
       "29 Andalucía                  Málaga                    \n",
       "30 Andalucía                  Marbella                  \n",
       "31 Comunidad de Madrid        Móstoles                  \n",
       "32 Región de Murcia           Murcia                    \n",
       "33 Principado de Asturias     Oviedo                    \n",
       "34 Islas Baleares             Palma                     \n",
       "35 Comunidad Foral de Navarra Pamplona                  \n",
       "36 Cataluña                   Sabadell                  \n",
       "37 Castilla y León            Salamanca                 \n",
       "38 Canarias                   San Cristóbal de La Laguna\n",
       "39 País Vasco                 San Sebastián             \n",
       "40 Canarias                   Santa Cruz de Tenerife    \n",
       "41 Cantabria                  Santander                 \n",
       "42 Andalucía                  Sevilla                   \n",
       "43 Cataluña                   Tarragona                 \n",
       "44 Cataluña                   Tarrasa                   \n",
       "45 Comunidad de Madrid        Torrejón de Ardoz         \n",
       "46 Comunidad Valenciana       Valencia                  \n",
       "47 Castilla y León            Valladolid                \n",
       "48 Galicia                    Vigo                      \n",
       "49 País Vasco                 Vitoria                   \n",
       "50 Aragón                     Zaragoza                  \n",
       "   Cantidad de perfiles facebook TasaDC PobSeden Hombres Mujeres\n",
       "1   63.57                        20.72  43.18    30.05   32.36  \n",
       "2   49.03                        10.20  34.48    22.71   25.29  \n",
       "3   55.46                        10.15  34.48    24.78   30.09  \n",
       "4   87.46                        15.01  37.31    39.21   48.25  \n",
       "5  101.60                        19.71  39.20    47.75   55.88  \n",
       "6   73.08                        24.65  29.47    32.55   37.87  \n",
       "7   51.44                        10.50  37.35    24.80   26.64  \n",
       "8  117.26                        10.58  37.35    53.08   59.86  \n",
       "9   89.64                        10.72  30.47    40.48   49.16  \n",
       "10  47.75                         9.76  26.38    22.17   25.01  \n",
       "11  44.40                        16.20  44.99    20.57   23.37  \n",
       "12  87.78                        13.81  37.31    41.55   46.81  \n",
       "13  70.62                        24.89  39.15    29.17   36.84  \n",
       "14  23.28                        19.01  39.20    10.51   12.77  \n",
       "15  37.29                        13.08  37.31    16.91   20.38  \n",
       "16  47.01                         9.89  34.45    21.70   24.80  \n",
       "17  66.39                        10.20  34.47    30.98   33.75  \n",
       "18  51.50                        14.10  33.92    23.54   28.69  \n",
       "19 124.89                        19.08  39.40    55.98   68.90  \n",
       "20  68.95                        10.59  37.35    34.09   36.77  \n",
       "21  90.12                        19.42  39.42    42.29   49.91  \n",
       "22  46.98                        19.06  39.40    21.14   25.37  \n",
       "23  89.85                        11.46  24.27    38.80   49.01  \n",
       "24  89.82                        17.43  41.49    39.63   50.20  \n",
       "25  58.38                        10.10  34.48    26.54   31.31  \n",
       "26  72.54                         7.55  37.35    36.27   37.00  \n",
       "27  56.25                        11.21  24.56    25.81   30.44  \n",
       "28  96.17                        10.60  34.49    43.43   52.74  \n",
       "29  99.82                        19.40  39.35    45.53   54.29  \n",
       "30  70.69                        19.02  39.38    32.52   38.88  \n",
       "31  45.39                        10.50  34.48    20.76   24.63  \n",
       "32  84.98                        16.46  44.99    38.02   44.72  \n",
       "33  72.72                        14.37  33.92    30.91   38.63  \n",
       "34  87.88                        18.20  39.58    41.50   46.38  \n",
       "35  80.38                         8.55  22.03    36.67   43.70  \n",
       "36  41.19                        10.57  37.35    19.66   21.53  \n",
       "37  61.40                        13.17  26.38    26.92   33.06  \n",
       "38  15.43                        17.05  41.49     7.71    7.71  \n",
       "39  58.93                         6.91  30.47    26.79   33.21  \n",
       "40 117.16                        20.25  41.49    48.81   63.46  \n",
       "41  87.19                        11.09  43.83    38.94   49.41  \n",
       "42  90.02                        21.70  39.47    39.20   50.82  \n",
       "43  98.26                        12.83  37.35    44.60   49.13  \n",
       "44  37.52                        10.40  37.35    17.85   19.22  \n",
       "45  53.96                        10.30  34.49    25.44   28.52  \n",
       "46  92.24                        14.08  37.31    41.70   50.54  \n",
       "47  66.92                         9.55  26.38    30.78   33.46  \n",
       "48  71.52                        15.27  24.27    32.35   37.46  \n",
       "49  48.16                        10.50  30.47    23.68   25.68  \n",
       "50  61.48                        11.06  37.32    28.49   32.99  "
      ]
     },
     "metadata": {},
     "output_type": "display_data"
    }
   ],
   "source": [
    "dataRed"
   ]
  },
  {
   "cell_type": "code",
   "execution_count": 24,
   "metadata": {},
   "outputs": [
    {
     "name": "stderr",
     "output_type": "stream",
     "text": [
      "`stat_bin()` using `bins = 30`. Pick better value with `binwidth`.\n"
     ]
    },
    {
     "data": {},
     "metadata": {},
     "output_type": "display_data"
    },
    {
     "data": {
      "image/png": "[encoded data removed]",
      "text/plain": [
       "plot without title"
      ]
     },
     "metadata": {},
     "output_type": "display_data",
     "source": "R display func"
    }
   ],
   "source": [
    "#Gráficos\n",
    "ggplot(data = dataRed, mapping = aes(x = TasaDC)) +\n",
    "  geom_histogram() +\n",
    "  labs(title = \"\")+\n",
    "  theme(panel.background = element_rect(fill = 'white'), \n",
    "        text=element_text(size=10,  family=\"Arial\"),\n",
    "        legend.position  = \"bottom\")"
   ]
  },
  {
   "cell_type": "code",
   "execution_count": 25,
   "metadata": {},
   "outputs": [
    {
     "name": "stdout",
     "output_type": "stream",
     "text": [
      "[1] 14.0182\n",
      "[1] 20.63262\n",
      "[1] 12.955\n",
      "[1] 10.5\n",
      "[1] 6.91\n",
      "[1] 24.89\n",
      "[1] 7.5075\n",
      "[1] 12.7183\n",
      "[1] 13.34\n",
      "[1] 14.72175\n",
      "[1] -0.7220774\n",
      "     0%     25%     50%     75%    100% \n",
      " 6.9100 10.5000 12.9550 18.0075 24.8900 \n"
     ]
    }
   ],
   "source": [
    "desMean <- mean(dataRed$'TasaDC')\n",
    "print(desMean)\n",
    "desVar <- var(dataRed$'TasaDC')\n",
    "print(desVar)\n",
    "desMed <- median(dataRed$'TasaDC')\n",
    "print(desMed)\n",
    "desMod <- mfv(dataRed$'TasaDC')\n",
    "print(desMod)\n",
    "desMin <- min(dataRed$'TasaDC')\n",
    "print(desMin)\n",
    "desMax <- max(dataRed$'TasaDC')\n",
    "print(desMax)\n",
    "desRango <- IQR(dataRed$'TasaDC')\n",
    "print(desRango)\n",
    "#duda Media Armonica\n",
    "desArm <- 1/mean(1/dataRed$'TasaDC')\n",
    "print(desArm)\n",
    "#media geométrica\n",
    "n <- length(dataRed$'TasaDC')\n",
    "desMGeo <- prod(dataRed$'TasaDC')^(1/n)\n",
    "print(desMGeo)\n",
    "#media cuadrática\n",
    "desMCua <- (sum(dataRed$'TasaDC' ** 2) / n) ** 0.5\n",
    "print(desMCua)\n",
    "\n",
    "desKur <- kurtosis(dataRed$'TasaDC')\n",
    "print(desKur)\n",
    "\n",
    "desQuant <- quantile(dataRed$'TasaDC', probs = seq(0, 1, 0.25), na.rm = FALSE,\n",
    "         names = TRUE, type = 7)\n",
    "print(desQuant)\n",
    "\n",
    "#correlacion<-cor(dataCuant)\n",
    "#corrplot(correlacion,method=\"circle\", shade.col=NA, tl.col=\"black\",\n",
    "#        tl.srt=20, addCoef.col=\"black\",type=\"lower\")"
   ]
  },
  {
   "cell_type": "code",
   "execution_count": 26,
   "metadata": {},
   "outputs": [
    {
     "data": {
      "image/png": "[encoded data removed]",
      "text/plain": [
       "Plot with title “Matriz de correlación”"
      ]
     },
     "metadata": {},
     "output_type": "display_data",
     "source": "R display func"
    }
   ],
   "source": [
    "corPlot(dataRed[,c('Cantidad de perfiles facebook', 'TasaDC', 'PobSeden', 'Hombres', 'Mujeres')], \n",
    "        cex = 1.2, main = \"Matriz de correlación\")"
   ]
  },
  {
   "cell_type": "code",
   "execution_count": null,
   "metadata": {},
   "outputs": [],
   "source": []
  },
  {
   "cell_type": "code",
   "execution_count": 27,
   "metadata": {},
   "outputs": [
    {
     "name": "stderr",
     "output_type": "stream",
     "text": [
      "`stat_bin()` using `bins = 30`. Pick better value with `binwidth`.\n"
     ]
    },
    {
     "data": {},
     "metadata": {},
     "output_type": "display_data"
    },
    {
     "data": {
      "image/png": "[encoded data removed]",
      "text/plain": [
       "plot without title"
      ]
     },
     "metadata": {},
     "output_type": "display_data",
     "source": "R display func"
    }
   ],
   "source": [
    "ggplot(data = dataRed, mapping = aes(x = PobSeden)) +\n",
    "  geom_histogram() +\n",
    "  labs(title = \"\")+\n",
    "  theme(panel.background = element_rect(fill = 'white'), \n",
    "        text=element_text(size=10,  family=\"Arial\"),\n",
    "        legend.position  = \"bottom\")"
   ]
  },
  {
   "cell_type": "code",
   "execution_count": 28,
   "metadata": {},
   "outputs": [
    {
     "name": "stdout",
     "output_type": "stream",
     "text": [
      "[1] 35.6366\n",
      "[1] 31.28248\n",
      "[1] 37.315\n",
      "[1] 37.35\n",
      "[1] 22.03\n",
      "[1] 44.99\n",
      "[1] 5.32\n",
      "[1] 34.62885\n",
      "[1] 35.15891\n",
      "[1] 36.06417\n",
      "[1] -0.2009859\n",
      "     0%     25%     50%     75%    100% \n",
      "22.0300 34.0525 37.3150 39.3725 44.9900 \n"
     ]
    }
   ],
   "source": [
    "pobMean <- mean(dataRed$'PobSeden')\n",
    "print(pobMean)\n",
    "pobVar <- var(dataRed$'PobSeden')\n",
    "print(pobVar)\n",
    "pobMed <- median(dataRed$'PobSeden')\n",
    "print(pobMed)\n",
    "pobMod <- mfv(dataRed$'PobSeden')\n",
    "print(pobMod)\n",
    "pobMin <- min(dataRed$'PobSeden')\n",
    "print(pobMin)\n",
    "pobMax <- max(dataRed$'PobSeden')\n",
    "print(pobMax)\n",
    "pobRango <- IQR(dataRed$'PobSeden')\n",
    "print(pobRango)\n",
    "#duda Media Armonica\n",
    "pobArm <- 1/mean(1/dataRed$'PobSeden')\n",
    "print(pobArm)\n",
    "#media geométrica\n",
    "n <- length(dataRed$'PobSeden')\n",
    "pobMGeo <- prod(dataRed$'PobSeden')^(1/n)\n",
    "print(pobMGeo)\n",
    "#media cuadrática\n",
    "pobMCua <- (sum(dataRed$'PobSeden' ** 2) / n) ** 0.5\n",
    "print(pobMCua)\n",
    "\n",
    "pobKur <- kurtosis(dataRed$'PobSeden')\n",
    "print(pobKur)\n",
    "\n",
    "pobQuant <- quantile(dataRed$'PobSeden', probs = seq(0, 1, 0.25), na.rm = FALSE,\n",
    "         names = TRUE, type = 7)\n",
    "print(pobQuant)"
   ]
  },
  {
   "cell_type": "markdown",
   "metadata": {},
   "source": [
    "# Hipótesis: \n",
    "1. H0: Determinar si el % de desempleo de cada ciudades es similar a la tasa de desempleo de España (14.28%)"
   ]
  },
  {
   "cell_type": "code",
   "execution_count": 29,
   "metadata": {},
   "outputs": [
    {
     "data": {
      "text/html": [
       "<dl>\n",
       "\t<dt>$table</dt>\n",
       "\t\t<dd><table>\n",
       "<caption>A data.frame: 7 × 6</caption>\n",
       "<thead>\n",
       "\t<tr><th scope=col>Class limits</th><th scope=col>f</th><th scope=col>rf</th><th scope=col>rf(%)</th><th scope=col>cf</th><th scope=col>cf(%)</th></tr>\n",
       "\t<tr><th scope=col>&lt;fct&gt;</th><th scope=col>&lt;int&gt;</th><th scope=col>&lt;dbl&gt;</th><th scope=col>&lt;dbl&gt;</th><th scope=col>&lt;dbl&gt;</th><th scope=col>&lt;dbl&gt;</th></tr>\n",
       "</thead>\n",
       "<tbody>\n",
       "\t<tr><td>[6.8409,9.4549)</td><td> 3</td><td>0.06</td><td> 6</td><td> 3</td><td>  6</td></tr>\n",
       "\t<tr><td>[9.4549,12.069)</td><td>21</td><td>0.42</td><td>42</td><td>24</td><td> 48</td></tr>\n",
       "\t<tr><td>[12.069,14.683)</td><td> 7</td><td>0.14</td><td>14</td><td>31</td><td> 62</td></tr>\n",
       "\t<tr><td>[14.683,17.297)</td><td> 5</td><td>0.10</td><td>10</td><td>36</td><td> 72</td></tr>\n",
       "\t<tr><td>[17.297,19.911)</td><td> 9</td><td>0.18</td><td>18</td><td>45</td><td> 90</td></tr>\n",
       "\t<tr><td>[19.911,22.525)</td><td> 3</td><td>0.06</td><td> 6</td><td>48</td><td> 96</td></tr>\n",
       "\t<tr><td>[22.525,25.139)</td><td> 2</td><td>0.04</td><td> 4</td><td>50</td><td>100</td></tr>\n",
       "</tbody>\n",
       "</table>\n",
       "</dd>\n",
       "\t<dt>$breaks</dt>\n",
       "\t\t<dd><style>\n",
       ".dl-inline {width: auto; margin:0; padding: 0}\n",
       ".dl-inline>dt, .dl-inline>dd {float: none; width: auto; display: inline-block}\n",
       ".dl-inline>dt::after {content: \":\\0020\"; padding-right: .5ex}\n",
       ".dl-inline>dt:not(:first-of-type) {padding-left: .5ex}\n",
       "</style><dl class=dl-inline><dt>start</dt><dd>6.8409</dd><dt>end</dt><dd>25.1389</dd><dt>h</dt><dd>2.614</dd><dt>right</dt><dd>0</dd></dl>\n",
       "</dd>\n",
       "</dl>\n"
      ],
      "text/latex": [
       "\\begin{description}\n",
       "\\item[\\$table] A data.frame: 7 × 6\n",
       "\\begin{tabular}{llllll}\n",
       " Class limits & f & rf & rf(\\%) & cf & cf(\\%)\\\\\n",
       " <fct> & <int> & <dbl> & <dbl> & <dbl> & <dbl>\\\\\n",
       "\\hline\n",
       "\t {[}6.8409,9.4549) &  3 & 0.06 &  6 &  3 &   6\\\\\n",
       "\t {[}9.4549,12.069) & 21 & 0.42 & 42 & 24 &  48\\\\\n",
       "\t {[}12.069,14.683) &  7 & 0.14 & 14 & 31 &  62\\\\\n",
       "\t {[}14.683,17.297) &  5 & 0.10 & 10 & 36 &  72\\\\\n",
       "\t {[}17.297,19.911) &  9 & 0.18 & 18 & 45 &  90\\\\\n",
       "\t {[}19.911,22.525) &  3 & 0.06 &  6 & 48 &  96\\\\\n",
       "\t {[}22.525,25.139) &  2 & 0.04 &  4 & 50 & 100\\\\\n",
       "\\end{tabular}\n",
       "\n",
       "\\item[\\$breaks] \\begin{description*}\n",
       "\\item[start] 6.8409\n",
       "\\item[end] 25.1389\n",
       "\\item[h] 2.614\n",
       "\\item[right] 0\n",
       "\\end{description*}\n",
       "\n",
       "\\end{description}\n"
      ],
      "text/markdown": [
       "$table\n",
       ":   \n",
       "A data.frame: 7 × 6\n",
       "\n",
       "| Class limits &lt;fct&gt; | f &lt;int&gt; | rf &lt;dbl&gt; | rf(%) &lt;dbl&gt; | cf &lt;dbl&gt; | cf(%) &lt;dbl&gt; |\n",
       "|---|---|---|---|---|---|\n",
       "| [6.8409,9.4549) |  3 | 0.06 |  6 |  3 |   6 |\n",
       "| [9.4549,12.069) | 21 | 0.42 | 42 | 24 |  48 |\n",
       "| [12.069,14.683) |  7 | 0.14 | 14 | 31 |  62 |\n",
       "| [14.683,17.297) |  5 | 0.10 | 10 | 36 |  72 |\n",
       "| [17.297,19.911) |  9 | 0.18 | 18 | 45 |  90 |\n",
       "| [19.911,22.525) |  3 | 0.06 |  6 | 48 |  96 |\n",
       "| [22.525,25.139) |  2 | 0.04 |  4 | 50 | 100 |\n",
       "\n",
       "\n",
       "$breaks\n",
       ":   start\n",
       ":   6.8409end\n",
       ":   25.1389h\n",
       ":   2.614right\n",
       ":   0\n",
       "\n",
       "\n",
       "\n",
       "\n"
      ],
      "text/plain": [
       "    Class limits  f   rf rf(%) cf cf(%)\n",
       " [6.8409,9.4549)  3 0.06     6  3     6\n",
       " [9.4549,12.069) 21 0.42    42 24    48\n",
       " [12.069,14.683)  7 0.14    14 31    62\n",
       " [14.683,17.297)  5 0.10    10 36    72\n",
       " [17.297,19.911)  9 0.18    18 45    90\n",
       " [19.911,22.525)  3 0.06     6 48    96\n",
       " [22.525,25.139)  2 0.04     4 50   100"
      ]
     },
     "metadata": {},
     "output_type": "display_data"
    }
   ],
   "source": [
    "dist <- fdt(dataRed$'TasaDC',breaks=\"Sturges\") # calcula la distribución de frecuencias utilizando la regla Sturge\n",
    "\n",
    "dist #nos brinda una tabla con los calculos de la distribución de frecuencias."
   ]
  },
  {
   "cell_type": "markdown",
   "metadata": {},
   "source": [
    "# Chi cuadrada\n",
    "\n",
    "**PENDIENTE REVISAR**"
   ]
  },
  {
   "cell_type": "code",
   "execution_count": 30,
   "metadata": {},
   "outputs": [
    {
     "data": {
      "text/html": [
       "<style>\n",
       ".list-inline {list-style: none; margin:0; padding: 0}\n",
       ".list-inline>li {display: inline-block}\n",
       ".list-inline>li:not(:last-child)::after {content: \"\\00b7\"; padding: 0 .5ex}\n",
       "</style>\n",
       "<ol class=list-inline><li>3</li><li>21</li><li>7</li><li>5</li><li>9</li><li>3</li><li>2</li></ol>\n"
      ],
      "text/latex": [
       "\\begin{enumerate*}\n",
       "\\item 3\n",
       "\\item 21\n",
       "\\item 7\n",
       "\\item 5\n",
       "\\item 9\n",
       "\\item 3\n",
       "\\item 2\n",
       "\\end{enumerate*}\n"
      ],
      "text/markdown": [
       "1. 3\n",
       "2. 21\n",
       "3. 7\n",
       "4. 5\n",
       "5. 9\n",
       "6. 3\n",
       "7. 2\n",
       "\n",
       "\n"
      ],
      "text/plain": [
       "[1]  3 21  7  5  9  3  2"
      ]
     },
     "metadata": {},
     "output_type": "display_data"
    }
   ],
   "source": [
    "dist$table$f"
   ]
  },
  {
   "cell_type": "code",
   "execution_count": 32,
   "metadata": {},
   "outputs": [
    {
     "data": {
      "text/plain": [
       "\n",
       "\tChi-squared test for given probabilities\n",
       "\n",
       "data:  FRECUENCIAS\n",
       "X-squared = 36.553, df = 6, p-value = 2.152e-06\n"
      ]
     },
     "metadata": {},
     "output_type": "display_data"
    }
   ],
   "source": [
    "FRECUENCIAS<-dist$table$f\n",
    "PROBABILIDADES<-c(0.1428,0.1428, 0.1428, 0.1428, 0.1428, 0.1428, 0.1432)\n",
    "chisq.test(FRECUENCIAS,p=PROBABILIDADES)"
   ]
  },
  {
   "cell_type": "code",
   "execution_count": 33,
   "metadata": {},
   "outputs": [
    {
     "data": {
      "text/html": [
       "12.591587243744"
      ],
      "text/latex": [
       "12.591587243744"
      ],
      "text/markdown": [
       "12.591587243744"
      ],
      "text/plain": [
       "[1] 12.59159"
      ]
     },
     "metadata": {},
     "output_type": "display_data"
    }
   ],
   "source": [
    "#el 12.59 resultante es el punto exacto donde se cruzan 0.95 con los grados de libertad. Nuestra chi cuadrada 36.55, \n",
    "#que es mayor que 12.59. Esto confirma nuestro p-valor\n",
    "qchisq(0.95, 6) "
   ]
  },
  {
   "cell_type": "code",
   "execution_count": 34,
   "metadata": {},
   "outputs": [],
   "source": [
    "#rep(0.1626,7)"
   ]
  },
  {
   "cell_type": "code",
   "execution_count": 35,
   "metadata": {},
   "outputs": [
    {
     "name": "stderr",
     "output_type": "stream",
     "text": [
      "Warning message in ks.test(dataRed$TasaDC, pnorm, desMean, desSD):\n",
      "“ties should not be present for the Kolmogorov-Smirnov test”"
     ]
    },
    {
     "data": {
      "text/plain": [
       "\n",
       "\tOne-sample Kolmogorov-Smirnov test\n",
       "\n",
       "data:  dataRed$TasaDC\n",
       "D = 0.19335, p-value = 0.04759\n",
       "alternative hypothesis: two-sided\n"
      ]
     },
     "metadata": {},
     "output_type": "display_data"
    }
   ],
   "source": [
    "desMean <- mean(dataRed$'TasaDC')\n",
    "desSD <- sd(dataRed$'TasaDC')\n",
    "ks.test(dataRed$TasaDC,pnorm,desMean,desSD)"
   ]
  },
  {
   "cell_type": "code",
   "execution_count": 36,
   "metadata": {},
   "outputs": [
    {
     "data": {
      "image/png": "[encoded data removed]",
      "text/plain": [
       "Plot with title “Histogram of dataRed$TasaDC”"
      ]
     },
     "metadata": {},
     "output_type": "display_data",
     "source": "R display func"
    }
   ],
   "source": [
    "hist(dataRed$TasaDC, probability = T)\n",
    "curve(dnorm(x,desMean,desSD),add = T)"
   ]
  },
  {
   "cell_type": "markdown",
   "metadata": {},
   "source": [
    "## Conclusion: \n",
    "\n",
    "test de Kolmogorov-Smirnov\n",
    "\n",
    "**CONTRASTE DE HIPÓTESIS**\n",
    "\n",
    "H0: Los datos de TasaDC proceden de una distribución normal\n",
    "\n",
    "H1: los datos de TasaDC no proceden de una distribución normal\n",
    "\n",
    "  Luego de ejecutar el test, el resultado del p-value es de 0.04759.  \n",
    "  El p-value es menor a 0.05, por lo tanto NO se puede aceptar la hipotesis H0"
   ]
  },
  {
   "cell_type": "code",
   "execution_count": 37,
   "metadata": {},
   "outputs": [
    {
     "name": "stderr",
     "output_type": "stream",
     "text": [
      "Warning message in ks.test(dataRed$PobSeden, pnorm, pobMean, pobSD):\n",
      "“ties should not be present for the Kolmogorov-Smirnov test”"
     ]
    },
    {
     "data": {
      "text/plain": [
       "\n",
       "\tOne-sample Kolmogorov-Smirnov test\n",
       "\n",
       "data:  dataRed$PobSeden\n",
       "D = 0.1976, p-value = 0.04029\n",
       "alternative hypothesis: two-sided\n"
      ]
     },
     "metadata": {},
     "output_type": "display_data"
    }
   ],
   "source": [
    "# Trabajando con la variable dataRed$'PobSeden'\n",
    "pobMean <- mean(dataRed$'PobSeden')\n",
    "pobSD <- sd(dataRed$'PobSeden')\n",
    "ks.test(dataRed$PobSeden,pnorm,pobMean,pobSD)"
   ]
  },
  {
   "cell_type": "code",
   "execution_count": 95,
   "metadata": {},
   "outputs": [
    {
     "data": {
      "image/png": "[encoded data removed]",
      "text/plain": [
       "Plot with title “Histogram of dataRed$PobSeden”"
      ]
     },
     "metadata": {},
     "output_type": "display_data",
     "source": "R display func"
    }
   ],
   "source": [
    "hist(dataRed$PobSeden, probability = T)\n",
    "curve(dnorm(x,pobMean,pobSD),add = T)"
   ]
  },
  {
   "cell_type": "markdown",
   "metadata": {},
   "source": [
    "## Conclusion: \n",
    "test de Kolmogorov-Smirnov\n",
    "\n",
    "**CONTRASTE DE HIPÓTESIS**\n",
    "\n",
    " H0: Los datos de PobSeden proceden de una distribución normal\n",
    " \n",
    " H1: los datos de PobSeden no proceden de una distribución normal\n",
    "\n",
    "  Luego de ejecutar el test, el resultado del p-value es de 0.04029.  \n",
    "  El p-value es menor a 0.05, por lo tanto NO se puede aceptar la hipotesis H0"
   ]
  },
  {
   "cell_type": "markdown",
   "metadata": {},
   "source": []
  },
  {
   "cell_type": "markdown",
   "metadata": {},
   "source": [
    "## Hipótesis t-student\n",
    "\n",
    "* H0: La media de nivel de desempleo = 15% con un nivel de significación del 0.05\n",
    "* H1: La media de nivel de desempleo > 15% con un nivel de significación del 0.05"
   ]
  },
  {
   "cell_type": "code",
   "execution_count": 40,
   "metadata": {},
   "outputs": [
    {
     "data": {
      "text/plain": [
       "\n",
       "\tOne Sample t-test\n",
       "\n",
       "data:  dataRed$TasaDC\n",
       "t = -1.5284, df = 49, p-value = 0.9336\n",
       "alternative hypothesis: true mean is greater than 15\n",
       "95 percent confidence interval:\n",
       " 12.94122      Inf\n",
       "sample estimates:\n",
       "mean of x \n",
       "  14.0182 \n"
      ]
     },
     "metadata": {},
     "output_type": "display_data"
    }
   ],
   "source": [
    "t.test(dataRed$TasaDC, mu=15, alternative=\"greater\",conf.level = 0.95)"
   ]
  },
  {
   "cell_type": "code",
   "execution_count": 41,
   "metadata": {},
   "outputs": [
    {
     "data": {
      "text/plain": [
       "\n",
       "\tOne-sample variance test\n",
       "\n",
       "data:  x\n",
       "X-squared = 1011, df = 49, p-value < 2.2e-16\n",
       "alternative hypothesis: true variance is greater than 1\n",
       "95 percent confidence interval:\n",
       " 15.23996      Inf\n",
       "sample estimates:\n",
       "variance \n",
       "20.63262 \n"
      ]
     },
     "metadata": {},
     "output_type": "display_data"
    }
   ],
   "source": [
    "var_test = Var.test(dataRed$TasaDC, y = NULL, ratio = 1, alternative = c(\"greater\"), paired = FALSE, conf.level = 0.95)\n",
    "var_test"
   ]
  },
  {
   "cell_type": "markdown",
   "metadata": {},
   "source": [
    "## Prop Test\n",
    "\n",
    "* H0: Probabilidad de que X=28 ciudades tengan un nivel de desempleo inferior a la media\n",
    "\n",
    "PENDIENTE DE DEFINIR X, de momento lo dejamos como 28"
   ]
  },
  {
   "cell_type": "code",
   "execution_count": 70,
   "metadata": {},
   "outputs": [
    {
     "data": {
      "text/html": [
       "28"
      ],
      "text/latex": [
       "28"
      ],
      "text/markdown": [
       "28"
      ],
      "text/plain": [
       "[1] 28"
      ]
     },
     "metadata": {},
     "output_type": "display_data"
    },
    {
     "data": {
      "text/plain": [
       "\n",
       "\t1-sample proportions test with continuity correction\n",
       "\n",
       "data:  28 out of 50, null probability 0.5\n",
       "X-squared = 0.5, df = 1, p-value = 0.4795\n",
       "alternative hypothesis: true p is not equal to 0.5\n",
       "95 percent confidence interval:\n",
       " 0.4134993 0.6973395\n",
       "sample estimates:\n",
       "   p \n",
       "0.56 \n"
      ]
     },
     "metadata": {},
     "output_type": "display_data"
    }
   ],
   "source": [
    "length(dataRed$Ciudad[dataRed$TasaDC < 14.0182])\n",
    "prop.test(28,n=50,alternative=\"two.side\",conf.level = 0.95)"
   ]
  },
  {
   "cell_type": "code",
   "execution_count": null,
   "metadata": {},
   "outputs": [],
   "source": []
  },
  {
   "cell_type": "code",
   "execution_count": 61,
   "metadata": {},
   "outputs": [
    {
     "data": {
      "text/html": [
       "28"
      ],
      "text/latex": [
       "28"
      ],
      "text/markdown": [
       "28"
      ],
      "text/plain": [
       "[1] 28"
      ]
     },
     "metadata": {},
     "output_type": "display_data"
    }
   ],
   "source": []
  },
  {
   "cell_type": "code",
   "execution_count": null,
   "metadata": {},
   "outputs": [],
   "source": []
  }
 ],
 "metadata": {
  "kernelspec": {
   "display_name": "R",
   "language": "R",
   "name": "conda-env-r-r"
  },
  "language_info": {
   "codemirror_mode": "r",
   "file_extension": ".r",
   "mimetype": "text/x-r-source",
   "name": "R",
   "pygments_lexer": "r",
   "version": "3.5.1"
  }
 },
 "nbformat": 4,
 "nbformat_minor": 4
}
